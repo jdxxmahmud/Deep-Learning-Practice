{
  "nbformat": 4,
  "nbformat_minor": 0,
  "metadata": {
    "colab": {
      "name": "Linear_Classification__Wine_Classification",
      "provenance": [],
      "authorship_tag": "ABX9TyMKUQJGkAppQ/GXFXS7w0Sa",
      "include_colab_link": true
    },
    "kernelspec": {
      "name": "python3",
      "display_name": "Python 3"
    }
  },
  "cells": [
    {
      "cell_type": "markdown",
      "metadata": {
        "id": "view-in-github",
        "colab_type": "text"
      },
      "source": [
        "<a href=\"https://colab.research.google.com/github/jdxxmahmud/Deep-Learning-Practice/blob/main/Linear-Classification-Examples/Linear_Classification__Wine_Classification.ipynb\" target=\"_parent\"><img src=\"https://colab.research.google.com/assets/colab-badge.svg\" alt=\"Open In Colab\"/></a>"
      ]
    },
    {
      "cell_type": "code",
      "metadata": {
        "id": "ElPCbeHC-9ve"
      },
      "source": [
        "import tensorflow as tf"
      ],
      "execution_count": 1,
      "outputs": []
    },
    {
      "cell_type": "markdown",
      "metadata": {
        "id": "ylPMLLzUAAgY"
      },
      "source": [
        "## Load the data"
      ]
    },
    {
      "cell_type": "code",
      "metadata": {
        "id": "b3FvJ280_pCj"
      },
      "source": [
        "from sklearn.datasets import load_wine\n",
        "\n",
        "# load the data\n",
        "data = load_wine()"
      ],
      "execution_count": 2,
      "outputs": []
    },
    {
      "cell_type": "markdown",
      "metadata": {
        "id": "D6kyALOnj2dD"
      },
      "source": [
        "## Take a look at the data"
      ]
    },
    {
      "cell_type": "code",
      "metadata": {
        "id": "8KR1jsk7_xHv",
        "outputId": "cb6e66eb-45f0-49b9-bde5-95e4af172b23",
        "colab": {
          "base_uri": "https://localhost:8080/",
          "height": 34
        }
      },
      "source": [
        "type(data)"
      ],
      "execution_count": 3,
      "outputs": [
        {
          "output_type": "execute_result",
          "data": {
            "text/plain": [
              "sklearn.utils.Bunch"
            ]
          },
          "metadata": {
            "tags": []
          },
          "execution_count": 3
        }
      ]
    },
    {
      "cell_type": "code",
      "metadata": {
        "id": "2bE5jVDP_1pY",
        "outputId": "7744542e-cf64-4c60-8eea-3aa46e2dfea6",
        "colab": {
          "base_uri": "https://localhost:8080/",
          "height": 34
        }
      },
      "source": [
        "data.keys()"
      ],
      "execution_count": 4,
      "outputs": [
        {
          "output_type": "execute_result",
          "data": {
            "text/plain": [
              "dict_keys(['data', 'target', 'target_names', 'DESCR', 'feature_names'])"
            ]
          },
          "metadata": {
            "tags": []
          },
          "execution_count": 4
        }
      ]
    },
    {
      "cell_type": "code",
      "metadata": {
        "id": "BwyZu0_4AIoo",
        "outputId": "e3d376f2-49ef-46d0-9691-9908a3e7b20d",
        "colab": {
          "base_uri": "https://localhost:8080/",
          "height": 34
        }
      },
      "source": [
        "data.data.shape"
      ],
      "execution_count": 5,
      "outputs": [
        {
          "output_type": "execute_result",
          "data": {
            "text/plain": [
              "(178, 13)"
            ]
          },
          "metadata": {
            "tags": []
          },
          "execution_count": 5
        }
      ]
    },
    {
      "cell_type": "code",
      "metadata": {
        "id": "xrp_b6YOAUwq",
        "outputId": "c9979d44-f8c3-4c34-cadf-f67b6f7d4c91",
        "colab": {
          "base_uri": "https://localhost:8080/",
          "height": 170
        }
      },
      "source": [
        "data.target"
      ],
      "execution_count": 6,
      "outputs": [
        {
          "output_type": "execute_result",
          "data": {
            "text/plain": [
              "array([0, 0, 0, 0, 0, 0, 0, 0, 0, 0, 0, 0, 0, 0, 0, 0, 0, 0, 0, 0, 0, 0,\n",
              "       0, 0, 0, 0, 0, 0, 0, 0, 0, 0, 0, 0, 0, 0, 0, 0, 0, 0, 0, 0, 0, 0,\n",
              "       0, 0, 0, 0, 0, 0, 0, 0, 0, 0, 0, 0, 0, 0, 0, 1, 1, 1, 1, 1, 1, 1,\n",
              "       1, 1, 1, 1, 1, 1, 1, 1, 1, 1, 1, 1, 1, 1, 1, 1, 1, 1, 1, 1, 1, 1,\n",
              "       1, 1, 1, 1, 1, 1, 1, 1, 1, 1, 1, 1, 1, 1, 1, 1, 1, 1, 1, 1, 1, 1,\n",
              "       1, 1, 1, 1, 1, 1, 1, 1, 1, 1, 1, 1, 1, 1, 1, 1, 1, 1, 1, 1, 2, 2,\n",
              "       2, 2, 2, 2, 2, 2, 2, 2, 2, 2, 2, 2, 2, 2, 2, 2, 2, 2, 2, 2, 2, 2,\n",
              "       2, 2, 2, 2, 2, 2, 2, 2, 2, 2, 2, 2, 2, 2, 2, 2, 2, 2, 2, 2, 2, 2,\n",
              "       2, 2])"
            ]
          },
          "metadata": {
            "tags": []
          },
          "execution_count": 6
        }
      ]
    },
    {
      "cell_type": "code",
      "metadata": {
        "id": "i4chwm5IAmK2",
        "outputId": "f5ce7b91-ad57-4d0e-c086-563ebae967d2",
        "colab": {
          "base_uri": "https://localhost:8080/",
          "height": 34
        }
      },
      "source": [
        "print(data.target_names)"
      ],
      "execution_count": 7,
      "outputs": [
        {
          "output_type": "stream",
          "text": [
            "['class_0' 'class_1' 'class_2']\n"
          ],
          "name": "stdout"
        }
      ]
    },
    {
      "cell_type": "code",
      "metadata": {
        "id": "A8PVCaS0BDui",
        "outputId": "7937fea9-4423-4503-c1b7-2ef2b2f9a8c3",
        "colab": {
          "base_uri": "https://localhost:8080/",
          "height": 54
        }
      },
      "source": [
        "print(data.feature_names)"
      ],
      "execution_count": 8,
      "outputs": [
        {
          "output_type": "stream",
          "text": [
            "['alcohol', 'malic_acid', 'ash', 'alcalinity_of_ash', 'magnesium', 'total_phenols', 'flavanoids', 'nonflavanoid_phenols', 'proanthocyanins', 'color_intensity', 'hue', 'od280/od315_of_diluted_wines', 'proline']\n"
          ],
          "name": "stdout"
        }
      ]
    },
    {
      "cell_type": "markdown",
      "metadata": {
        "id": "tGOQUvWm_y8n"
      },
      "source": [
        "## Splitting for test and training"
      ]
    },
    {
      "cell_type": "code",
      "metadata": {
        "id": "aNcbPViuj-PX"
      },
      "source": [
        "from sklearn.model_selection import train_test_split\n",
        "\n",
        "X_train, X_test, y_train, y_test = train_test_split(data.data, data.target, test_size=0.33)\n",
        "N, D = X_train.shape"
      ],
      "execution_count": 24,
      "outputs": []
    },
    {
      "cell_type": "code",
      "metadata": {
        "id": "n_cRRxiewBDa"
      },
      "source": [
        ""
      ],
      "execution_count": null,
      "outputs": []
    },
    {
      "cell_type": "code",
      "metadata": {
        "id": "fyUwBMZOvt5K"
      },
      "source": [
        ""
      ],
      "execution_count": null,
      "outputs": []
    },
    {
      "cell_type": "code",
      "metadata": {
        "id": "C_EOcFBLmnb1"
      },
      "source": [
        "from sklearn.preprocessing import StandardScaler\n",
        "scaler = StandardScaler()\n",
        "X_train = scaler.fit_transform(X=X_train)\n",
        "X_test = scaler.fit_transform(X=X_test)"
      ],
      "execution_count": 25,
      "outputs": []
    },
    {
      "cell_type": "code",
      "metadata": {
        "id": "r1-8EyamwB1i"
      },
      "source": [
        ""
      ],
      "execution_count": null,
      "outputs": []
    },
    {
      "cell_type": "code",
      "metadata": {
        "id": "MqNZBhlWvuSb"
      },
      "source": [
        ""
      ],
      "execution_count": null,
      "outputs": []
    },
    {
      "cell_type": "markdown",
      "metadata": {
        "id": "a-8EduhNuKZD"
      },
      "source": [
        "#### **Build the model using tensorflow"
      ]
    },
    {
      "cell_type": "code",
      "metadata": {
        "id": "C5oWyMuDuQpL",
        "outputId": "af7ed470-2bb3-472d-bbc6-cd2cf28a32c6",
        "colab": {
          "base_uri": "https://localhost:8080/",
          "height": 1000
        }
      },
      "source": [
        "model = tf.keras.models.Sequential([\n",
        "  tf.keras.layers.Input(shape=(D, )),\n",
        "  tf.keras.layers.Dense(1, activation='sigmoid')\n",
        "])\n",
        "\n",
        "model.compile(optimizer='adam',\n",
        "              loss='binary_crossentropy',\n",
        "              metrics=['accuracy'])\n",
        "\n",
        "r = model.fit(X_train, y_train, validation_data=(X_test, y_test), epochs=500)\n",
        "\n",
        "\n",
        "print(\"Train Score: \", model.evaluate(X_train, y_train))\n",
        "print(\"Test Score: \", model.evaluate(X_test, y_test))"
      ],
      "execution_count": 29,
      "outputs": [
        {
          "output_type": "stream",
          "text": [
            "Epoch 1/500\n",
            "4/4 [==============================] - 0s 27ms/step - loss: 1.9407 - accuracy: 0.3193 - val_loss: 2.0690 - val_accuracy: 0.3051\n",
            "Epoch 2/500\n",
            "4/4 [==============================] - 0s 5ms/step - loss: 1.9125 - accuracy: 0.3193 - val_loss: 2.0429 - val_accuracy: 0.3051\n",
            "Epoch 3/500\n",
            "4/4 [==============================] - 0s 5ms/step - loss: 1.8851 - accuracy: 0.3193 - val_loss: 2.0166 - val_accuracy: 0.3051\n",
            "Epoch 4/500\n",
            "4/4 [==============================] - 0s 5ms/step - loss: 1.8586 - accuracy: 0.3193 - val_loss: 1.9906 - val_accuracy: 0.3051\n",
            "Epoch 5/500\n",
            "4/4 [==============================] - 0s 5ms/step - loss: 1.8324 - accuracy: 0.3277 - val_loss: 1.9644 - val_accuracy: 0.3051\n",
            "Epoch 6/500\n",
            "4/4 [==============================] - 0s 5ms/step - loss: 1.8054 - accuracy: 0.3277 - val_loss: 1.9385 - val_accuracy: 0.3220\n",
            "Epoch 7/500\n",
            "4/4 [==============================] - 0s 5ms/step - loss: 1.7781 - accuracy: 0.3445 - val_loss: 1.9132 - val_accuracy: 0.3220\n",
            "Epoch 8/500\n",
            "4/4 [==============================] - 0s 5ms/step - loss: 1.7520 - accuracy: 0.3529 - val_loss: 1.8876 - val_accuracy: 0.3220\n",
            "Epoch 9/500\n",
            "4/4 [==============================] - 0s 5ms/step - loss: 1.7251 - accuracy: 0.3529 - val_loss: 1.8622 - val_accuracy: 0.3220\n",
            "Epoch 10/500\n",
            "4/4 [==============================] - 0s 5ms/step - loss: 1.6993 - accuracy: 0.3529 - val_loss: 1.8367 - val_accuracy: 0.3220\n",
            "Epoch 11/500\n",
            "4/4 [==============================] - 0s 5ms/step - loss: 1.6732 - accuracy: 0.3529 - val_loss: 1.8114 - val_accuracy: 0.3220\n",
            "Epoch 12/500\n",
            "4/4 [==============================] - 0s 5ms/step - loss: 1.6479 - accuracy: 0.3529 - val_loss: 1.7860 - val_accuracy: 0.3220\n",
            "Epoch 13/500\n",
            "4/4 [==============================] - 0s 5ms/step - loss: 1.6216 - accuracy: 0.3529 - val_loss: 1.7611 - val_accuracy: 0.3220\n",
            "Epoch 14/500\n",
            "4/4 [==============================] - 0s 5ms/step - loss: 1.5968 - accuracy: 0.3529 - val_loss: 1.7360 - val_accuracy: 0.3220\n",
            "Epoch 15/500\n",
            "4/4 [==============================] - 0s 5ms/step - loss: 1.5701 - accuracy: 0.3529 - val_loss: 1.7115 - val_accuracy: 0.3220\n",
            "Epoch 16/500\n",
            "4/4 [==============================] - 0s 5ms/step - loss: 1.5454 - accuracy: 0.3529 - val_loss: 1.6870 - val_accuracy: 0.3220\n",
            "Epoch 17/500\n",
            "4/4 [==============================] - 0s 5ms/step - loss: 1.5205 - accuracy: 0.3529 - val_loss: 1.6625 - val_accuracy: 0.3220\n",
            "Epoch 18/500\n",
            "4/4 [==============================] - 0s 7ms/step - loss: 1.4953 - accuracy: 0.3529 - val_loss: 1.6384 - val_accuracy: 0.3220\n",
            "Epoch 19/500\n",
            "4/4 [==============================] - 0s 5ms/step - loss: 1.4717 - accuracy: 0.3529 - val_loss: 1.6138 - val_accuracy: 0.3390\n",
            "Epoch 20/500\n",
            "4/4 [==============================] - 0s 5ms/step - loss: 1.4471 - accuracy: 0.3529 - val_loss: 1.5897 - val_accuracy: 0.3390\n",
            "Epoch 21/500\n",
            "4/4 [==============================] - 0s 6ms/step - loss: 1.4222 - accuracy: 0.3529 - val_loss: 1.5663 - val_accuracy: 0.3390\n",
            "Epoch 22/500\n",
            "4/4 [==============================] - 0s 6ms/step - loss: 1.3981 - accuracy: 0.3529 - val_loss: 1.5428 - val_accuracy: 0.3559\n",
            "Epoch 23/500\n",
            "4/4 [==============================] - 0s 5ms/step - loss: 1.3741 - accuracy: 0.3613 - val_loss: 1.5195 - val_accuracy: 0.3898\n",
            "Epoch 24/500\n",
            "4/4 [==============================] - 0s 5ms/step - loss: 1.3499 - accuracy: 0.3613 - val_loss: 1.4965 - val_accuracy: 0.3898\n",
            "Epoch 25/500\n",
            "4/4 [==============================] - 0s 5ms/step - loss: 1.3267 - accuracy: 0.3613 - val_loss: 1.4733 - val_accuracy: 0.3898\n",
            "Epoch 26/500\n",
            "4/4 [==============================] - 0s 6ms/step - loss: 1.3043 - accuracy: 0.3613 - val_loss: 1.4501 - val_accuracy: 0.3898\n",
            "Epoch 27/500\n",
            "4/4 [==============================] - 0s 5ms/step - loss: 1.2801 - accuracy: 0.3613 - val_loss: 1.4276 - val_accuracy: 0.3898\n",
            "Epoch 28/500\n",
            "4/4 [==============================] - 0s 5ms/step - loss: 1.2583 - accuracy: 0.3613 - val_loss: 1.4048 - val_accuracy: 0.3898\n",
            "Epoch 29/500\n",
            "4/4 [==============================] - 0s 5ms/step - loss: 1.2342 - accuracy: 0.3697 - val_loss: 1.3829 - val_accuracy: 0.3898\n",
            "Epoch 30/500\n",
            "4/4 [==============================] - 0s 5ms/step - loss: 1.2129 - accuracy: 0.3697 - val_loss: 1.3606 - val_accuracy: 0.3898\n",
            "Epoch 31/500\n",
            "4/4 [==============================] - 0s 5ms/step - loss: 1.1903 - accuracy: 0.3782 - val_loss: 1.3388 - val_accuracy: 0.4068\n",
            "Epoch 32/500\n",
            "4/4 [==============================] - 0s 5ms/step - loss: 1.1678 - accuracy: 0.3950 - val_loss: 1.3174 - val_accuracy: 0.4068\n",
            "Epoch 33/500\n",
            "4/4 [==============================] - 0s 5ms/step - loss: 1.1462 - accuracy: 0.3950 - val_loss: 1.2961 - val_accuracy: 0.4068\n",
            "Epoch 34/500\n",
            "4/4 [==============================] - 0s 5ms/step - loss: 1.1263 - accuracy: 0.3950 - val_loss: 1.2745 - val_accuracy: 0.4237\n",
            "Epoch 35/500\n",
            "4/4 [==============================] - 0s 5ms/step - loss: 1.1036 - accuracy: 0.4118 - val_loss: 1.2534 - val_accuracy: 0.4237\n",
            "Epoch 36/500\n",
            "4/4 [==============================] - 0s 5ms/step - loss: 1.0824 - accuracy: 0.4118 - val_loss: 1.2324 - val_accuracy: 0.4237\n",
            "Epoch 37/500\n",
            "4/4 [==============================] - 0s 5ms/step - loss: 1.0612 - accuracy: 0.4202 - val_loss: 1.2116 - val_accuracy: 0.4237\n",
            "Epoch 38/500\n",
            "4/4 [==============================] - 0s 5ms/step - loss: 1.0405 - accuracy: 0.4286 - val_loss: 1.1910 - val_accuracy: 0.4237\n",
            "Epoch 39/500\n",
            "4/4 [==============================] - 0s 5ms/step - loss: 1.0197 - accuracy: 0.4370 - val_loss: 1.1707 - val_accuracy: 0.4407\n",
            "Epoch 40/500\n",
            "4/4 [==============================] - 0s 5ms/step - loss: 1.0004 - accuracy: 0.4370 - val_loss: 1.1501 - val_accuracy: 0.4576\n",
            "Epoch 41/500\n",
            "4/4 [==============================] - 0s 5ms/step - loss: 0.9784 - accuracy: 0.4286 - val_loss: 1.1305 - val_accuracy: 0.4746\n",
            "Epoch 42/500\n",
            "4/4 [==============================] - 0s 5ms/step - loss: 0.9596 - accuracy: 0.4286 - val_loss: 1.1106 - val_accuracy: 0.4746\n",
            "Epoch 43/500\n",
            "4/4 [==============================] - 0s 5ms/step - loss: 0.9398 - accuracy: 0.4286 - val_loss: 1.0909 - val_accuracy: 0.4746\n",
            "Epoch 44/500\n",
            "4/4 [==============================] - 0s 5ms/step - loss: 0.9193 - accuracy: 0.4286 - val_loss: 1.0716 - val_accuracy: 0.4746\n",
            "Epoch 45/500\n",
            "4/4 [==============================] - 0s 5ms/step - loss: 0.8999 - accuracy: 0.4370 - val_loss: 1.0524 - val_accuracy: 0.4915\n",
            "Epoch 46/500\n",
            "4/4 [==============================] - 0s 6ms/step - loss: 0.8812 - accuracy: 0.4370 - val_loss: 1.0331 - val_accuracy: 0.4915\n",
            "Epoch 47/500\n",
            "4/4 [==============================] - 0s 5ms/step - loss: 0.8627 - accuracy: 0.4370 - val_loss: 1.0139 - val_accuracy: 0.4915\n",
            "Epoch 48/500\n",
            "4/4 [==============================] - 0s 5ms/step - loss: 0.8435 - accuracy: 0.4370 - val_loss: 0.9953 - val_accuracy: 0.4915\n",
            "Epoch 49/500\n",
            "4/4 [==============================] - 0s 5ms/step - loss: 0.8244 - accuracy: 0.4454 - val_loss: 0.9770 - val_accuracy: 0.4915\n",
            "Epoch 50/500\n",
            "4/4 [==============================] - 0s 5ms/step - loss: 0.8066 - accuracy: 0.4454 - val_loss: 0.9585 - val_accuracy: 0.4915\n",
            "Epoch 51/500\n",
            "4/4 [==============================] - 0s 5ms/step - loss: 0.7879 - accuracy: 0.4454 - val_loss: 0.9402 - val_accuracy: 0.4915\n",
            "Epoch 52/500\n",
            "4/4 [==============================] - 0s 6ms/step - loss: 0.7698 - accuracy: 0.4622 - val_loss: 0.9221 - val_accuracy: 0.4915\n",
            "Epoch 53/500\n",
            "4/4 [==============================] - 0s 6ms/step - loss: 0.7519 - accuracy: 0.4706 - val_loss: 0.9041 - val_accuracy: 0.4915\n",
            "Epoch 54/500\n",
            "4/4 [==============================] - 0s 6ms/step - loss: 0.7341 - accuracy: 0.4706 - val_loss: 0.8864 - val_accuracy: 0.4915\n",
            "Epoch 55/500\n",
            "4/4 [==============================] - 0s 5ms/step - loss: 0.7162 - accuracy: 0.4790 - val_loss: 0.8689 - val_accuracy: 0.4915\n",
            "Epoch 56/500\n",
            "4/4 [==============================] - 0s 7ms/step - loss: 0.6992 - accuracy: 0.4790 - val_loss: 0.8514 - val_accuracy: 0.4915\n",
            "Epoch 57/500\n",
            "4/4 [==============================] - 0s 6ms/step - loss: 0.6820 - accuracy: 0.4790 - val_loss: 0.8340 - val_accuracy: 0.5085\n",
            "Epoch 58/500\n",
            "4/4 [==============================] - 0s 5ms/step - loss: 0.6641 - accuracy: 0.4790 - val_loss: 0.8171 - val_accuracy: 0.5085\n",
            "Epoch 59/500\n",
            "4/4 [==============================] - 0s 5ms/step - loss: 0.6476 - accuracy: 0.4790 - val_loss: 0.8000 - val_accuracy: 0.5085\n",
            "Epoch 60/500\n",
            "4/4 [==============================] - 0s 5ms/step - loss: 0.6306 - accuracy: 0.4706 - val_loss: 0.7830 - val_accuracy: 0.5085\n",
            "Epoch 61/500\n",
            "4/4 [==============================] - 0s 5ms/step - loss: 0.6143 - accuracy: 0.4706 - val_loss: 0.7659 - val_accuracy: 0.5085\n",
            "Epoch 62/500\n",
            "4/4 [==============================] - 0s 6ms/step - loss: 0.5976 - accuracy: 0.4790 - val_loss: 0.7492 - val_accuracy: 0.5085\n",
            "Epoch 63/500\n",
            "4/4 [==============================] - 0s 6ms/step - loss: 0.5811 - accuracy: 0.4790 - val_loss: 0.7326 - val_accuracy: 0.5085\n",
            "Epoch 64/500\n",
            "4/4 [==============================] - 0s 5ms/step - loss: 0.5646 - accuracy: 0.4790 - val_loss: 0.7163 - val_accuracy: 0.5085\n",
            "Epoch 65/500\n",
            "4/4 [==============================] - 0s 5ms/step - loss: 0.5482 - accuracy: 0.4874 - val_loss: 0.7004 - val_accuracy: 0.5085\n",
            "Epoch 66/500\n",
            "4/4 [==============================] - 0s 5ms/step - loss: 0.5319 - accuracy: 0.4874 - val_loss: 0.6846 - val_accuracy: 0.5085\n",
            "Epoch 67/500\n",
            "4/4 [==============================] - 0s 6ms/step - loss: 0.5172 - accuracy: 0.4874 - val_loss: 0.6685 - val_accuracy: 0.5085\n",
            "Epoch 68/500\n",
            "4/4 [==============================] - 0s 5ms/step - loss: 0.5020 - accuracy: 0.4958 - val_loss: 0.6526 - val_accuracy: 0.5085\n",
            "Epoch 69/500\n",
            "4/4 [==============================] - 0s 5ms/step - loss: 0.4864 - accuracy: 0.4958 - val_loss: 0.6369 - val_accuracy: 0.5085\n",
            "Epoch 70/500\n",
            "4/4 [==============================] - 0s 6ms/step - loss: 0.4699 - accuracy: 0.5042 - val_loss: 0.6219 - val_accuracy: 0.5085\n",
            "Epoch 71/500\n",
            "4/4 [==============================] - 0s 6ms/step - loss: 0.4562 - accuracy: 0.5210 - val_loss: 0.6067 - val_accuracy: 0.5085\n",
            "Epoch 72/500\n",
            "4/4 [==============================] - 0s 5ms/step - loss: 0.4403 - accuracy: 0.5210 - val_loss: 0.5919 - val_accuracy: 0.5085\n",
            "Epoch 73/500\n",
            "4/4 [==============================] - 0s 6ms/step - loss: 0.4260 - accuracy: 0.5210 - val_loss: 0.5771 - val_accuracy: 0.5085\n",
            "Epoch 74/500\n",
            "4/4 [==============================] - 0s 7ms/step - loss: 0.4114 - accuracy: 0.5210 - val_loss: 0.5625 - val_accuracy: 0.5085\n",
            "Epoch 75/500\n",
            "4/4 [==============================] - 0s 6ms/step - loss: 0.3974 - accuracy: 0.5210 - val_loss: 0.5477 - val_accuracy: 0.5085\n",
            "Epoch 76/500\n",
            "4/4 [==============================] - 0s 6ms/step - loss: 0.3834 - accuracy: 0.5210 - val_loss: 0.5332 - val_accuracy: 0.5085\n",
            "Epoch 77/500\n",
            "4/4 [==============================] - 0s 5ms/step - loss: 0.3691 - accuracy: 0.5210 - val_loss: 0.5189 - val_accuracy: 0.5085\n",
            "Epoch 78/500\n",
            "4/4 [==============================] - 0s 5ms/step - loss: 0.3547 - accuracy: 0.5294 - val_loss: 0.5049 - val_accuracy: 0.5254\n",
            "Epoch 79/500\n",
            "4/4 [==============================] - 0s 5ms/step - loss: 0.3413 - accuracy: 0.5294 - val_loss: 0.4910 - val_accuracy: 0.5254\n",
            "Epoch 80/500\n",
            "4/4 [==============================] - 0s 5ms/step - loss: 0.3276 - accuracy: 0.5378 - val_loss: 0.4773 - val_accuracy: 0.5424\n",
            "Epoch 81/500\n",
            "4/4 [==============================] - 0s 5ms/step - loss: 0.3141 - accuracy: 0.5462 - val_loss: 0.4637 - val_accuracy: 0.5593\n",
            "Epoch 82/500\n",
            "4/4 [==============================] - 0s 5ms/step - loss: 0.3007 - accuracy: 0.5462 - val_loss: 0.4502 - val_accuracy: 0.5593\n",
            "Epoch 83/500\n",
            "4/4 [==============================] - 0s 6ms/step - loss: 0.2871 - accuracy: 0.5462 - val_loss: 0.4370 - val_accuracy: 0.5593\n",
            "Epoch 84/500\n",
            "4/4 [==============================] - 0s 5ms/step - loss: 0.2745 - accuracy: 0.5462 - val_loss: 0.4237 - val_accuracy: 0.5593\n",
            "Epoch 85/500\n",
            "4/4 [==============================] - 0s 6ms/step - loss: 0.2615 - accuracy: 0.5546 - val_loss: 0.4105 - val_accuracy: 0.5593\n",
            "Epoch 86/500\n",
            "4/4 [==============================] - 0s 6ms/step - loss: 0.2489 - accuracy: 0.5546 - val_loss: 0.3975 - val_accuracy: 0.5763\n",
            "Epoch 87/500\n",
            "4/4 [==============================] - 0s 6ms/step - loss: 0.2357 - accuracy: 0.5630 - val_loss: 0.3847 - val_accuracy: 0.5763\n",
            "Epoch 88/500\n",
            "4/4 [==============================] - 0s 5ms/step - loss: 0.2219 - accuracy: 0.5630 - val_loss: 0.3724 - val_accuracy: 0.5763\n",
            "Epoch 89/500\n",
            "4/4 [==============================] - 0s 6ms/step - loss: 0.2107 - accuracy: 0.5546 - val_loss: 0.3594 - val_accuracy: 0.5763\n",
            "Epoch 90/500\n",
            "4/4 [==============================] - 0s 5ms/step - loss: 0.1973 - accuracy: 0.5546 - val_loss: 0.3468 - val_accuracy: 0.5763\n",
            "Epoch 91/500\n",
            "4/4 [==============================] - 0s 6ms/step - loss: 0.1855 - accuracy: 0.5630 - val_loss: 0.3341 - val_accuracy: 0.5763\n",
            "Epoch 92/500\n",
            "4/4 [==============================] - 0s 6ms/step - loss: 0.1729 - accuracy: 0.5630 - val_loss: 0.3215 - val_accuracy: 0.5932\n",
            "Epoch 93/500\n",
            "4/4 [==============================] - 0s 6ms/step - loss: 0.1608 - accuracy: 0.5630 - val_loss: 0.3091 - val_accuracy: 0.5932\n",
            "Epoch 94/500\n",
            "4/4 [==============================] - 0s 6ms/step - loss: 0.1495 - accuracy: 0.5630 - val_loss: 0.2965 - val_accuracy: 0.5932\n",
            "Epoch 95/500\n",
            "4/4 [==============================] - 0s 6ms/step - loss: 0.1363 - accuracy: 0.5630 - val_loss: 0.2847 - val_accuracy: 0.5932\n",
            "Epoch 96/500\n",
            "4/4 [==============================] - 0s 6ms/step - loss: 0.1242 - accuracy: 0.5630 - val_loss: 0.2730 - val_accuracy: 0.5932\n",
            "Epoch 97/500\n",
            "4/4 [==============================] - 0s 5ms/step - loss: 0.1128 - accuracy: 0.5630 - val_loss: 0.2613 - val_accuracy: 0.5932\n",
            "Epoch 98/500\n",
            "4/4 [==============================] - 0s 6ms/step - loss: 0.1017 - accuracy: 0.5714 - val_loss: 0.2495 - val_accuracy: 0.5932\n",
            "Epoch 99/500\n",
            "4/4 [==============================] - 0s 6ms/step - loss: 0.0903 - accuracy: 0.5714 - val_loss: 0.2377 - val_accuracy: 0.5932\n",
            "Epoch 100/500\n",
            "4/4 [==============================] - 0s 5ms/step - loss: 0.0783 - accuracy: 0.5798 - val_loss: 0.2263 - val_accuracy: 0.5932\n",
            "Epoch 101/500\n",
            "4/4 [==============================] - 0s 5ms/step - loss: 0.0670 - accuracy: 0.5798 - val_loss: 0.2150 - val_accuracy: 0.5932\n",
            "Epoch 102/500\n",
            "4/4 [==============================] - 0s 5ms/step - loss: 0.0558 - accuracy: 0.5882 - val_loss: 0.2037 - val_accuracy: 0.5932\n",
            "Epoch 103/500\n",
            "4/4 [==============================] - 0s 6ms/step - loss: 0.0451 - accuracy: 0.5882 - val_loss: 0.1923 - val_accuracy: 0.5932\n",
            "Epoch 104/500\n",
            "4/4 [==============================] - 0s 5ms/step - loss: 0.0340 - accuracy: 0.5882 - val_loss: 0.1811 - val_accuracy: 0.5932\n",
            "Epoch 105/500\n",
            "4/4 [==============================] - 0s 6ms/step - loss: 0.0229 - accuracy: 0.5882 - val_loss: 0.1702 - val_accuracy: 0.5932\n",
            "Epoch 106/500\n",
            "4/4 [==============================] - 0s 6ms/step - loss: 0.0121 - accuracy: 0.5882 - val_loss: 0.1593 - val_accuracy: 0.5932\n",
            "Epoch 107/500\n",
            "4/4 [==============================] - 0s 6ms/step - loss: 2.7321e-04 - accuracy: 0.5882 - val_loss: 0.1488 - val_accuracy: 0.5932\n",
            "Epoch 108/500\n",
            "4/4 [==============================] - 0s 5ms/step - loss: -0.0091 - accuracy: 0.5882 - val_loss: 0.1378 - val_accuracy: 0.5763\n",
            "Epoch 109/500\n",
            "4/4 [==============================] - 0s 5ms/step - loss: -0.0201 - accuracy: 0.5882 - val_loss: 0.1271 - val_accuracy: 0.5763\n",
            "Epoch 110/500\n",
            "4/4 [==============================] - 0s 5ms/step - loss: -0.0312 - accuracy: 0.5882 - val_loss: 0.1166 - val_accuracy: 0.5763\n",
            "Epoch 111/500\n",
            "4/4 [==============================] - 0s 6ms/step - loss: -0.0408 - accuracy: 0.5882 - val_loss: 0.1058 - val_accuracy: 0.5932\n",
            "Epoch 112/500\n",
            "4/4 [==============================] - 0s 6ms/step - loss: -0.0523 - accuracy: 0.5882 - val_loss: 0.0955 - val_accuracy: 0.5932\n",
            "Epoch 113/500\n",
            "4/4 [==============================] - 0s 6ms/step - loss: -0.0620 - accuracy: 0.5882 - val_loss: 0.0849 - val_accuracy: 0.5932\n",
            "Epoch 114/500\n",
            "4/4 [==============================] - 0s 6ms/step - loss: -0.0717 - accuracy: 0.5966 - val_loss: 0.0742 - val_accuracy: 0.5932\n",
            "Epoch 115/500\n",
            "4/4 [==============================] - 0s 5ms/step - loss: -0.0835 - accuracy: 0.5966 - val_loss: 0.0642 - val_accuracy: 0.5932\n",
            "Epoch 116/500\n",
            "4/4 [==============================] - 0s 6ms/step - loss: -0.0929 - accuracy: 0.5966 - val_loss: 0.0539 - val_accuracy: 0.5932\n",
            "Epoch 117/500\n",
            "4/4 [==============================] - 0s 5ms/step - loss: -0.1025 - accuracy: 0.5966 - val_loss: 0.0434 - val_accuracy: 0.5932\n",
            "Epoch 118/500\n",
            "4/4 [==============================] - 0s 5ms/step - loss: -0.1127 - accuracy: 0.5966 - val_loss: 0.0331 - val_accuracy: 0.5932\n",
            "Epoch 119/500\n",
            "4/4 [==============================] - 0s 6ms/step - loss: -0.1235 - accuracy: 0.5966 - val_loss: 0.0234 - val_accuracy: 0.5932\n",
            "Epoch 120/500\n",
            "4/4 [==============================] - 0s 6ms/step - loss: -0.1329 - accuracy: 0.5966 - val_loss: 0.0134 - val_accuracy: 0.5932\n",
            "Epoch 121/500\n",
            "4/4 [==============================] - 0s 5ms/step - loss: -0.1429 - accuracy: 0.5882 - val_loss: 0.0036 - val_accuracy: 0.5932\n",
            "Epoch 122/500\n",
            "4/4 [==============================] - 0s 7ms/step - loss: -0.1524 - accuracy: 0.5882 - val_loss: -0.0062 - val_accuracy: 0.5932\n",
            "Epoch 123/500\n",
            "4/4 [==============================] - 0s 5ms/step - loss: -0.1617 - accuracy: 0.5882 - val_loss: -0.0160 - val_accuracy: 0.6102\n",
            "Epoch 124/500\n",
            "4/4 [==============================] - 0s 5ms/step - loss: -0.1714 - accuracy: 0.5966 - val_loss: -0.0256 - val_accuracy: 0.6102\n",
            "Epoch 125/500\n",
            "4/4 [==============================] - 0s 6ms/step - loss: -0.1813 - accuracy: 0.5966 - val_loss: -0.0349 - val_accuracy: 0.6102\n",
            "Epoch 126/500\n",
            "4/4 [==============================] - 0s 6ms/step - loss: -0.1901 - accuracy: 0.5966 - val_loss: -0.0444 - val_accuracy: 0.6102\n",
            "Epoch 127/500\n",
            "4/4 [==============================] - 0s 6ms/step - loss: -0.2002 - accuracy: 0.5966 - val_loss: -0.0535 - val_accuracy: 0.6102\n",
            "Epoch 128/500\n",
            "4/4 [==============================] - 0s 7ms/step - loss: -0.2090 - accuracy: 0.5966 - val_loss: -0.0629 - val_accuracy: 0.6102\n",
            "Epoch 129/500\n",
            "4/4 [==============================] - 0s 6ms/step - loss: -0.2184 - accuracy: 0.5966 - val_loss: -0.0721 - val_accuracy: 0.6102\n",
            "Epoch 130/500\n",
            "4/4 [==============================] - 0s 5ms/step - loss: -0.2277 - accuracy: 0.5966 - val_loss: -0.0813 - val_accuracy: 0.6102\n",
            "Epoch 131/500\n",
            "4/4 [==============================] - 0s 6ms/step - loss: -0.2368 - accuracy: 0.5966 - val_loss: -0.0905 - val_accuracy: 0.6102\n",
            "Epoch 132/500\n",
            "4/4 [==============================] - 0s 8ms/step - loss: -0.2462 - accuracy: 0.5966 - val_loss: -0.0995 - val_accuracy: 0.6102\n",
            "Epoch 133/500\n",
            "4/4 [==============================] - 0s 7ms/step - loss: -0.2553 - accuracy: 0.5966 - val_loss: -0.1086 - val_accuracy: 0.6102\n",
            "Epoch 134/500\n",
            "4/4 [==============================] - 0s 6ms/step - loss: -0.2640 - accuracy: 0.5966 - val_loss: -0.1178 - val_accuracy: 0.6102\n",
            "Epoch 135/500\n",
            "4/4 [==============================] - 0s 7ms/step - loss: -0.2732 - accuracy: 0.5966 - val_loss: -0.1268 - val_accuracy: 0.6102\n",
            "Epoch 136/500\n",
            "4/4 [==============================] - 0s 6ms/step - loss: -0.2819 - accuracy: 0.5966 - val_loss: -0.1360 - val_accuracy: 0.6102\n",
            "Epoch 137/500\n",
            "4/4 [==============================] - 0s 6ms/step - loss: -0.2916 - accuracy: 0.5966 - val_loss: -0.1447 - val_accuracy: 0.6102\n",
            "Epoch 138/500\n",
            "4/4 [==============================] - 0s 7ms/step - loss: -0.3003 - accuracy: 0.5966 - val_loss: -0.1536 - val_accuracy: 0.6102\n",
            "Epoch 139/500\n",
            "4/4 [==============================] - 0s 6ms/step - loss: -0.3096 - accuracy: 0.5966 - val_loss: -0.1624 - val_accuracy: 0.6102\n",
            "Epoch 140/500\n",
            "4/4 [==============================] - 0s 6ms/step - loss: -0.3175 - accuracy: 0.5966 - val_loss: -0.1715 - val_accuracy: 0.6102\n",
            "Epoch 141/500\n",
            "4/4 [==============================] - 0s 6ms/step - loss: -0.3264 - accuracy: 0.6050 - val_loss: -0.1804 - val_accuracy: 0.6102\n",
            "Epoch 142/500\n",
            "4/4 [==============================] - 0s 5ms/step - loss: -0.3355 - accuracy: 0.6050 - val_loss: -0.1890 - val_accuracy: 0.6102\n",
            "Epoch 143/500\n",
            "4/4 [==============================] - 0s 5ms/step - loss: -0.3434 - accuracy: 0.6050 - val_loss: -0.1979 - val_accuracy: 0.6102\n",
            "Epoch 144/500\n",
            "4/4 [==============================] - 0s 5ms/step - loss: -0.3531 - accuracy: 0.6050 - val_loss: -0.2062 - val_accuracy: 0.6102\n",
            "Epoch 145/500\n",
            "4/4 [==============================] - 0s 6ms/step - loss: -0.3610 - accuracy: 0.6050 - val_loss: -0.2147 - val_accuracy: 0.6102\n",
            "Epoch 146/500\n",
            "4/4 [==============================] - 0s 6ms/step - loss: -0.3702 - accuracy: 0.6050 - val_loss: -0.2229 - val_accuracy: 0.6102\n",
            "Epoch 147/500\n",
            "4/4 [==============================] - 0s 6ms/step - loss: -0.3780 - accuracy: 0.6050 - val_loss: -0.2314 - val_accuracy: 0.6102\n",
            "Epoch 148/500\n",
            "4/4 [==============================] - 0s 8ms/step - loss: -0.3866 - accuracy: 0.6134 - val_loss: -0.2399 - val_accuracy: 0.6102\n",
            "Epoch 149/500\n",
            "4/4 [==============================] - 0s 6ms/step - loss: -0.3955 - accuracy: 0.6218 - val_loss: -0.2481 - val_accuracy: 0.6271\n",
            "Epoch 150/500\n",
            "4/4 [==============================] - 0s 6ms/step - loss: -0.4037 - accuracy: 0.6218 - val_loss: -0.2563 - val_accuracy: 0.6271\n",
            "Epoch 151/500\n",
            "4/4 [==============================] - 0s 6ms/step - loss: -0.4121 - accuracy: 0.6303 - val_loss: -0.2645 - val_accuracy: 0.6271\n",
            "Epoch 152/500\n",
            "4/4 [==============================] - 0s 6ms/step - loss: -0.4199 - accuracy: 0.6303 - val_loss: -0.2729 - val_accuracy: 0.6271\n",
            "Epoch 153/500\n",
            "4/4 [==============================] - 0s 6ms/step - loss: -0.4281 - accuracy: 0.6303 - val_loss: -0.2812 - val_accuracy: 0.6271\n",
            "Epoch 154/500\n",
            "4/4 [==============================] - 0s 6ms/step - loss: -0.4367 - accuracy: 0.6387 - val_loss: -0.2893 - val_accuracy: 0.6271\n",
            "Epoch 155/500\n",
            "4/4 [==============================] - 0s 8ms/step - loss: -0.4447 - accuracy: 0.6387 - val_loss: -0.2975 - val_accuracy: 0.6271\n",
            "Epoch 156/500\n",
            "4/4 [==============================] - 0s 7ms/step - loss: -0.4532 - accuracy: 0.6387 - val_loss: -0.3055 - val_accuracy: 0.6271\n",
            "Epoch 157/500\n",
            "4/4 [==============================] - 0s 6ms/step - loss: -0.4611 - accuracy: 0.6387 - val_loss: -0.3136 - val_accuracy: 0.6271\n",
            "Epoch 158/500\n",
            "4/4 [==============================] - 0s 5ms/step - loss: -0.4694 - accuracy: 0.6387 - val_loss: -0.3215 - val_accuracy: 0.6271\n",
            "Epoch 159/500\n",
            "4/4 [==============================] - 0s 5ms/step - loss: -0.4774 - accuracy: 0.6387 - val_loss: -0.3295 - val_accuracy: 0.6271\n",
            "Epoch 160/500\n",
            "4/4 [==============================] - 0s 7ms/step - loss: -0.4847 - accuracy: 0.6387 - val_loss: -0.3377 - val_accuracy: 0.6271\n",
            "Epoch 161/500\n",
            "4/4 [==============================] - 0s 7ms/step - loss: -0.4936 - accuracy: 0.6387 - val_loss: -0.3455 - val_accuracy: 0.6271\n",
            "Epoch 162/500\n",
            "4/4 [==============================] - 0s 6ms/step - loss: -0.5021 - accuracy: 0.6387 - val_loss: -0.3532 - val_accuracy: 0.6271\n",
            "Epoch 163/500\n",
            "4/4 [==============================] - 0s 6ms/step - loss: -0.5093 - accuracy: 0.6303 - val_loss: -0.3612 - val_accuracy: 0.6271\n",
            "Epoch 164/500\n",
            "4/4 [==============================] - 0s 6ms/step - loss: -0.5173 - accuracy: 0.6303 - val_loss: -0.3692 - val_accuracy: 0.6271\n",
            "Epoch 165/500\n",
            "4/4 [==============================] - 0s 7ms/step - loss: -0.5255 - accuracy: 0.6303 - val_loss: -0.3771 - val_accuracy: 0.6271\n",
            "Epoch 166/500\n",
            "4/4 [==============================] - 0s 7ms/step - loss: -0.5336 - accuracy: 0.6303 - val_loss: -0.3849 - val_accuracy: 0.6271\n",
            "Epoch 167/500\n",
            "4/4 [==============================] - 0s 6ms/step - loss: -0.5406 - accuracy: 0.6303 - val_loss: -0.3930 - val_accuracy: 0.6271\n",
            "Epoch 168/500\n",
            "4/4 [==============================] - 0s 6ms/step - loss: -0.5495 - accuracy: 0.6303 - val_loss: -0.4005 - val_accuracy: 0.6271\n",
            "Epoch 169/500\n",
            "4/4 [==============================] - 0s 5ms/step - loss: -0.5566 - accuracy: 0.6303 - val_loss: -0.4083 - val_accuracy: 0.6102\n",
            "Epoch 170/500\n",
            "4/4 [==============================] - 0s 6ms/step - loss: -0.5646 - accuracy: 0.6303 - val_loss: -0.4158 - val_accuracy: 0.6102\n",
            "Epoch 171/500\n",
            "4/4 [==============================] - 0s 6ms/step - loss: -0.5728 - accuracy: 0.6303 - val_loss: -0.4232 - val_accuracy: 0.6102\n",
            "Epoch 172/500\n",
            "4/4 [==============================] - 0s 7ms/step - loss: -0.5804 - accuracy: 0.6303 - val_loss: -0.4307 - val_accuracy: 0.6102\n",
            "Epoch 173/500\n",
            "4/4 [==============================] - 0s 5ms/step - loss: -0.5879 - accuracy: 0.6303 - val_loss: -0.4383 - val_accuracy: 0.6102\n",
            "Epoch 174/500\n",
            "4/4 [==============================] - 0s 5ms/step - loss: -0.5953 - accuracy: 0.6303 - val_loss: -0.4460 - val_accuracy: 0.5932\n",
            "Epoch 175/500\n",
            "4/4 [==============================] - 0s 6ms/step - loss: -0.6029 - accuracy: 0.6303 - val_loss: -0.4536 - val_accuracy: 0.5932\n",
            "Epoch 176/500\n",
            "4/4 [==============================] - 0s 6ms/step - loss: -0.6104 - accuracy: 0.6303 - val_loss: -0.4613 - val_accuracy: 0.5932\n",
            "Epoch 177/500\n",
            "4/4 [==============================] - 0s 6ms/step - loss: -0.6188 - accuracy: 0.6303 - val_loss: -0.4685 - val_accuracy: 0.5932\n",
            "Epoch 178/500\n",
            "4/4 [==============================] - 0s 6ms/step - loss: -0.6261 - accuracy: 0.6303 - val_loss: -0.4758 - val_accuracy: 0.5932\n",
            "Epoch 179/500\n",
            "4/4 [==============================] - 0s 7ms/step - loss: -0.6336 - accuracy: 0.6303 - val_loss: -0.4833 - val_accuracy: 0.5932\n",
            "Epoch 180/500\n",
            "4/4 [==============================] - 0s 5ms/step - loss: -0.6414 - accuracy: 0.6303 - val_loss: -0.4907 - val_accuracy: 0.5932\n",
            "Epoch 181/500\n",
            "4/4 [==============================] - 0s 6ms/step - loss: -0.6489 - accuracy: 0.6303 - val_loss: -0.4982 - val_accuracy: 0.5932\n",
            "Epoch 182/500\n",
            "4/4 [==============================] - 0s 5ms/step - loss: -0.6564 - accuracy: 0.6303 - val_loss: -0.5057 - val_accuracy: 0.5932\n",
            "Epoch 183/500\n",
            "4/4 [==============================] - 0s 6ms/step - loss: -0.6637 - accuracy: 0.6303 - val_loss: -0.5133 - val_accuracy: 0.5932\n",
            "Epoch 184/500\n",
            "4/4 [==============================] - 0s 6ms/step - loss: -0.6714 - accuracy: 0.6303 - val_loss: -0.5207 - val_accuracy: 0.5932\n",
            "Epoch 185/500\n",
            "4/4 [==============================] - 0s 8ms/step - loss: -0.6796 - accuracy: 0.6218 - val_loss: -0.5279 - val_accuracy: 0.5932\n",
            "Epoch 186/500\n",
            "4/4 [==============================] - 0s 6ms/step - loss: -0.6861 - accuracy: 0.6218 - val_loss: -0.5355 - val_accuracy: 0.5932\n",
            "Epoch 187/500\n",
            "4/4 [==============================] - 0s 6ms/step - loss: -0.6943 - accuracy: 0.6218 - val_loss: -0.5428 - val_accuracy: 0.5932\n",
            "Epoch 188/500\n",
            "4/4 [==============================] - 0s 6ms/step - loss: -0.7017 - accuracy: 0.6218 - val_loss: -0.5502 - val_accuracy: 0.5932\n",
            "Epoch 189/500\n",
            "4/4 [==============================] - 0s 6ms/step - loss: -0.7093 - accuracy: 0.6218 - val_loss: -0.5576 - val_accuracy: 0.5932\n",
            "Epoch 190/500\n",
            "4/4 [==============================] - 0s 6ms/step - loss: -0.7165 - accuracy: 0.6218 - val_loss: -0.5650 - val_accuracy: 0.5932\n",
            "Epoch 191/500\n",
            "4/4 [==============================] - 0s 5ms/step - loss: -0.7242 - accuracy: 0.6134 - val_loss: -0.5723 - val_accuracy: 0.5932\n",
            "Epoch 192/500\n",
            "4/4 [==============================] - 0s 7ms/step - loss: -0.7311 - accuracy: 0.6134 - val_loss: -0.5797 - val_accuracy: 0.5932\n",
            "Epoch 193/500\n",
            "4/4 [==============================] - 0s 6ms/step - loss: -0.7389 - accuracy: 0.6134 - val_loss: -0.5869 - val_accuracy: 0.5932\n",
            "Epoch 194/500\n",
            "4/4 [==============================] - 0s 8ms/step - loss: -0.7457 - accuracy: 0.6134 - val_loss: -0.5941 - val_accuracy: 0.5932\n",
            "Epoch 195/500\n",
            "4/4 [==============================] - 0s 7ms/step - loss: -0.7539 - accuracy: 0.6134 - val_loss: -0.6009 - val_accuracy: 0.5932\n",
            "Epoch 196/500\n",
            "4/4 [==============================] - 0s 7ms/step - loss: -0.7609 - accuracy: 0.6134 - val_loss: -0.6080 - val_accuracy: 0.5932\n",
            "Epoch 197/500\n",
            "4/4 [==============================] - 0s 7ms/step - loss: -0.7678 - accuracy: 0.6134 - val_loss: -0.6152 - val_accuracy: 0.5932\n",
            "Epoch 198/500\n",
            "4/4 [==============================] - 0s 5ms/step - loss: -0.7752 - accuracy: 0.6134 - val_loss: -0.6224 - val_accuracy: 0.5932\n",
            "Epoch 199/500\n",
            "4/4 [==============================] - 0s 5ms/step - loss: -0.7829 - accuracy: 0.6134 - val_loss: -0.6293 - val_accuracy: 0.5932\n",
            "Epoch 200/500\n",
            "4/4 [==============================] - 0s 7ms/step - loss: -0.7901 - accuracy: 0.6134 - val_loss: -0.6363 - val_accuracy: 0.5932\n",
            "Epoch 201/500\n",
            "4/4 [==============================] - 0s 8ms/step - loss: -0.7968 - accuracy: 0.6134 - val_loss: -0.6436 - val_accuracy: 0.5932\n",
            "Epoch 202/500\n",
            "4/4 [==============================] - 0s 5ms/step - loss: -0.8043 - accuracy: 0.6134 - val_loss: -0.6507 - val_accuracy: 0.5932\n",
            "Epoch 203/500\n",
            "4/4 [==============================] - 0s 6ms/step - loss: -0.8116 - accuracy: 0.6134 - val_loss: -0.6579 - val_accuracy: 0.5932\n",
            "Epoch 204/500\n",
            "4/4 [==============================] - 0s 7ms/step - loss: -0.8190 - accuracy: 0.6134 - val_loss: -0.6649 - val_accuracy: 0.5932\n",
            "Epoch 205/500\n",
            "4/4 [==============================] - 0s 7ms/step - loss: -0.8262 - accuracy: 0.6134 - val_loss: -0.6719 - val_accuracy: 0.6102\n",
            "Epoch 206/500\n",
            "4/4 [==============================] - 0s 6ms/step - loss: -0.8336 - accuracy: 0.6134 - val_loss: -0.6787 - val_accuracy: 0.6102\n",
            "Epoch 207/500\n",
            "4/4 [==============================] - 0s 5ms/step - loss: -0.8402 - accuracy: 0.6134 - val_loss: -0.6858 - val_accuracy: 0.6102\n",
            "Epoch 208/500\n",
            "4/4 [==============================] - 0s 7ms/step - loss: -0.8480 - accuracy: 0.6134 - val_loss: -0.6927 - val_accuracy: 0.6102\n",
            "Epoch 209/500\n",
            "4/4 [==============================] - 0s 6ms/step - loss: -0.8551 - accuracy: 0.6134 - val_loss: -0.6995 - val_accuracy: 0.6102\n",
            "Epoch 210/500\n",
            "4/4 [==============================] - 0s 6ms/step - loss: -0.8623 - accuracy: 0.6134 - val_loss: -0.7064 - val_accuracy: 0.6102\n",
            "Epoch 211/500\n",
            "4/4 [==============================] - 0s 6ms/step - loss: -0.8691 - accuracy: 0.6134 - val_loss: -0.7135 - val_accuracy: 0.6102\n",
            "Epoch 212/500\n",
            "4/4 [==============================] - 0s 7ms/step - loss: -0.8766 - accuracy: 0.6134 - val_loss: -0.7205 - val_accuracy: 0.6102\n",
            "Epoch 213/500\n",
            "4/4 [==============================] - 0s 6ms/step - loss: -0.8833 - accuracy: 0.6134 - val_loss: -0.7277 - val_accuracy: 0.6102\n",
            "Epoch 214/500\n",
            "4/4 [==============================] - 0s 6ms/step - loss: -0.8909 - accuracy: 0.6134 - val_loss: -0.7347 - val_accuracy: 0.6102\n",
            "Epoch 215/500\n",
            "4/4 [==============================] - 0s 7ms/step - loss: -0.8980 - accuracy: 0.6134 - val_loss: -0.7416 - val_accuracy: 0.6102\n",
            "Epoch 216/500\n",
            "4/4 [==============================] - 0s 6ms/step - loss: -0.9049 - accuracy: 0.6134 - val_loss: -0.7486 - val_accuracy: 0.6102\n",
            "Epoch 217/500\n",
            "4/4 [==============================] - 0s 6ms/step - loss: -0.9124 - accuracy: 0.6134 - val_loss: -0.7554 - val_accuracy: 0.6102\n",
            "Epoch 218/500\n",
            "4/4 [==============================] - 0s 6ms/step - loss: -0.9199 - accuracy: 0.6134 - val_loss: -0.7621 - val_accuracy: 0.6102\n",
            "Epoch 219/500\n",
            "4/4 [==============================] - 0s 6ms/step - loss: -0.9267 - accuracy: 0.6134 - val_loss: -0.7690 - val_accuracy: 0.6102\n",
            "Epoch 220/500\n",
            "4/4 [==============================] - 0s 7ms/step - loss: -0.9331 - accuracy: 0.6134 - val_loss: -0.7761 - val_accuracy: 0.6102\n",
            "Epoch 221/500\n",
            "4/4 [==============================] - 0s 7ms/step - loss: -0.9409 - accuracy: 0.6134 - val_loss: -0.7830 - val_accuracy: 0.6102\n",
            "Epoch 222/500\n",
            "4/4 [==============================] - 0s 6ms/step - loss: -0.9476 - accuracy: 0.6134 - val_loss: -0.7899 - val_accuracy: 0.6102\n",
            "Epoch 223/500\n",
            "4/4 [==============================] - 0s 7ms/step - loss: -0.9552 - accuracy: 0.6134 - val_loss: -0.7967 - val_accuracy: 0.6102\n",
            "Epoch 224/500\n",
            "4/4 [==============================] - 0s 7ms/step - loss: -0.9621 - accuracy: 0.6134 - val_loss: -0.8035 - val_accuracy: 0.6102\n",
            "Epoch 225/500\n",
            "4/4 [==============================] - 0s 7ms/step - loss: -0.9694 - accuracy: 0.6134 - val_loss: -0.8102 - val_accuracy: 0.6102\n",
            "Epoch 226/500\n",
            "4/4 [==============================] - 0s 6ms/step - loss: -0.9764 - accuracy: 0.6134 - val_loss: -0.8170 - val_accuracy: 0.6102\n",
            "Epoch 227/500\n",
            "4/4 [==============================] - 0s 9ms/step - loss: -0.9835 - accuracy: 0.6134 - val_loss: -0.8238 - val_accuracy: 0.6102\n",
            "Epoch 228/500\n",
            "4/4 [==============================] - 0s 7ms/step - loss: -0.9902 - accuracy: 0.6134 - val_loss: -0.8308 - val_accuracy: 0.6102\n",
            "Epoch 229/500\n",
            "4/4 [==============================] - 0s 6ms/step - loss: -0.9972 - accuracy: 0.6134 - val_loss: -0.8378 - val_accuracy: 0.6102\n",
            "Epoch 230/500\n",
            "4/4 [==============================] - 0s 6ms/step - loss: -1.0045 - accuracy: 0.6134 - val_loss: -0.8446 - val_accuracy: 0.6102\n",
            "Epoch 231/500\n",
            "4/4 [==============================] - 0s 7ms/step - loss: -1.0114 - accuracy: 0.6134 - val_loss: -0.8514 - val_accuracy: 0.6102\n",
            "Epoch 232/500\n",
            "4/4 [==============================] - 0s 6ms/step - loss: -1.0186 - accuracy: 0.6134 - val_loss: -0.8580 - val_accuracy: 0.6102\n",
            "Epoch 233/500\n",
            "4/4 [==============================] - 0s 6ms/step - loss: -1.0260 - accuracy: 0.6134 - val_loss: -0.8646 - val_accuracy: 0.6102\n",
            "Epoch 234/500\n",
            "4/4 [==============================] - 0s 6ms/step - loss: -1.0324 - accuracy: 0.6134 - val_loss: -0.8714 - val_accuracy: 0.6102\n",
            "Epoch 235/500\n",
            "4/4 [==============================] - 0s 6ms/step - loss: -1.0392 - accuracy: 0.6218 - val_loss: -0.8782 - val_accuracy: 0.6271\n",
            "Epoch 236/500\n",
            "4/4 [==============================] - 0s 8ms/step - loss: -1.0471 - accuracy: 0.6218 - val_loss: -0.8846 - val_accuracy: 0.6271\n",
            "Epoch 237/500\n",
            "4/4 [==============================] - 0s 6ms/step - loss: -1.0534 - accuracy: 0.6218 - val_loss: -0.8915 - val_accuracy: 0.6271\n",
            "Epoch 238/500\n",
            "4/4 [==============================] - 0s 6ms/step - loss: -1.0604 - accuracy: 0.6218 - val_loss: -0.8983 - val_accuracy: 0.6271\n",
            "Epoch 239/500\n",
            "4/4 [==============================] - 0s 6ms/step - loss: -1.0677 - accuracy: 0.6218 - val_loss: -0.9050 - val_accuracy: 0.6271\n",
            "Epoch 240/500\n",
            "4/4 [==============================] - 0s 6ms/step - loss: -1.0743 - accuracy: 0.6218 - val_loss: -0.9119 - val_accuracy: 0.6271\n",
            "Epoch 241/500\n",
            "4/4 [==============================] - 0s 6ms/step - loss: -1.0818 - accuracy: 0.6218 - val_loss: -0.9186 - val_accuracy: 0.6271\n",
            "Epoch 242/500\n",
            "4/4 [==============================] - 0s 7ms/step - loss: -1.0884 - accuracy: 0.6218 - val_loss: -0.9254 - val_accuracy: 0.6271\n",
            "Epoch 243/500\n",
            "4/4 [==============================] - 0s 6ms/step - loss: -1.0958 - accuracy: 0.6218 - val_loss: -0.9321 - val_accuracy: 0.6271\n",
            "Epoch 244/500\n",
            "4/4 [==============================] - 0s 6ms/step - loss: -1.1025 - accuracy: 0.6218 - val_loss: -0.9389 - val_accuracy: 0.6271\n",
            "Epoch 245/500\n",
            "4/4 [==============================] - 0s 6ms/step - loss: -1.1094 - accuracy: 0.6218 - val_loss: -0.9457 - val_accuracy: 0.6271\n",
            "Epoch 246/500\n",
            "4/4 [==============================] - 0s 6ms/step - loss: -1.1166 - accuracy: 0.6218 - val_loss: -0.9523 - val_accuracy: 0.6271\n",
            "Epoch 247/500\n",
            "4/4 [==============================] - 0s 7ms/step - loss: -1.1236 - accuracy: 0.6218 - val_loss: -0.9590 - val_accuracy: 0.6271\n",
            "Epoch 248/500\n",
            "4/4 [==============================] - 0s 6ms/step - loss: -1.1301 - accuracy: 0.6218 - val_loss: -0.9658 - val_accuracy: 0.6271\n",
            "Epoch 249/500\n",
            "4/4 [==============================] - 0s 5ms/step - loss: -1.1383 - accuracy: 0.6218 - val_loss: -0.9722 - val_accuracy: 0.6271\n",
            "Epoch 250/500\n",
            "4/4 [==============================] - 0s 7ms/step - loss: -1.1439 - accuracy: 0.6218 - val_loss: -0.9791 - val_accuracy: 0.6271\n",
            "Epoch 251/500\n",
            "4/4 [==============================] - 0s 7ms/step - loss: -1.1513 - accuracy: 0.6218 - val_loss: -0.9859 - val_accuracy: 0.6271\n",
            "Epoch 252/500\n",
            "4/4 [==============================] - 0s 7ms/step - loss: -1.1582 - accuracy: 0.6218 - val_loss: -0.9926 - val_accuracy: 0.6271\n",
            "Epoch 253/500\n",
            "4/4 [==============================] - 0s 7ms/step - loss: -1.1658 - accuracy: 0.6218 - val_loss: -0.9992 - val_accuracy: 0.6271\n",
            "Epoch 254/500\n",
            "4/4 [==============================] - 0s 6ms/step - loss: -1.1726 - accuracy: 0.6218 - val_loss: -1.0058 - val_accuracy: 0.6271\n",
            "Epoch 255/500\n",
            "4/4 [==============================] - 0s 6ms/step - loss: -1.1793 - accuracy: 0.6218 - val_loss: -1.0126 - val_accuracy: 0.6271\n",
            "Epoch 256/500\n",
            "4/4 [==============================] - 0s 6ms/step - loss: -1.1864 - accuracy: 0.6218 - val_loss: -1.0192 - val_accuracy: 0.6271\n",
            "Epoch 257/500\n",
            "4/4 [==============================] - 0s 6ms/step - loss: -1.1938 - accuracy: 0.6218 - val_loss: -1.0256 - val_accuracy: 0.6271\n",
            "Epoch 258/500\n",
            "4/4 [==============================] - 0s 6ms/step - loss: -1.2003 - accuracy: 0.6303 - val_loss: -1.0324 - val_accuracy: 0.6271\n",
            "Epoch 259/500\n",
            "4/4 [==============================] - 0s 8ms/step - loss: -1.2071 - accuracy: 0.6303 - val_loss: -1.0392 - val_accuracy: 0.6271\n",
            "Epoch 260/500\n",
            "4/4 [==============================] - 0s 7ms/step - loss: -1.2140 - accuracy: 0.6303 - val_loss: -1.0460 - val_accuracy: 0.6271\n",
            "Epoch 261/500\n",
            "4/4 [==============================] - 0s 7ms/step - loss: -1.2212 - accuracy: 0.6303 - val_loss: -1.0526 - val_accuracy: 0.6271\n",
            "Epoch 262/500\n",
            "4/4 [==============================] - 0s 6ms/step - loss: -1.2284 - accuracy: 0.6303 - val_loss: -1.0593 - val_accuracy: 0.6271\n",
            "Epoch 263/500\n",
            "4/4 [==============================] - 0s 7ms/step - loss: -1.2353 - accuracy: 0.6303 - val_loss: -1.0659 - val_accuracy: 0.6271\n",
            "Epoch 264/500\n",
            "4/4 [==============================] - 0s 6ms/step - loss: -1.2419 - accuracy: 0.6303 - val_loss: -1.0726 - val_accuracy: 0.6271\n",
            "Epoch 265/500\n",
            "4/4 [==============================] - 0s 6ms/step - loss: -1.2488 - accuracy: 0.6303 - val_loss: -1.0794 - val_accuracy: 0.6271\n",
            "Epoch 266/500\n",
            "4/4 [==============================] - 0s 5ms/step - loss: -1.2560 - accuracy: 0.6303 - val_loss: -1.0859 - val_accuracy: 0.6271\n",
            "Epoch 267/500\n",
            "4/4 [==============================] - 0s 7ms/step - loss: -1.2629 - accuracy: 0.6303 - val_loss: -1.0925 - val_accuracy: 0.6271\n",
            "Epoch 268/500\n",
            "4/4 [==============================] - 0s 6ms/step - loss: -1.2696 - accuracy: 0.6303 - val_loss: -1.0990 - val_accuracy: 0.6271\n",
            "Epoch 269/500\n",
            "4/4 [==============================] - 0s 7ms/step - loss: -1.2768 - accuracy: 0.6303 - val_loss: -1.1054 - val_accuracy: 0.6271\n",
            "Epoch 270/500\n",
            "4/4 [==============================] - 0s 7ms/step - loss: -1.2833 - accuracy: 0.6218 - val_loss: -1.1120 - val_accuracy: 0.6271\n",
            "Epoch 271/500\n",
            "4/4 [==============================] - 0s 8ms/step - loss: -1.2899 - accuracy: 0.6218 - val_loss: -1.1186 - val_accuracy: 0.6271\n",
            "Epoch 272/500\n",
            "4/4 [==============================] - 0s 7ms/step - loss: -1.2974 - accuracy: 0.6218 - val_loss: -1.1250 - val_accuracy: 0.6271\n",
            "Epoch 273/500\n",
            "4/4 [==============================] - 0s 7ms/step - loss: -1.3037 - accuracy: 0.6134 - val_loss: -1.1315 - val_accuracy: 0.6271\n",
            "Epoch 274/500\n",
            "4/4 [==============================] - 0s 8ms/step - loss: -1.3107 - accuracy: 0.6134 - val_loss: -1.1380 - val_accuracy: 0.6271\n",
            "Epoch 275/500\n",
            "4/4 [==============================] - 0s 7ms/step - loss: -1.3177 - accuracy: 0.6134 - val_loss: -1.1444 - val_accuracy: 0.6271\n",
            "Epoch 276/500\n",
            "4/4 [==============================] - 0s 7ms/step - loss: -1.3235 - accuracy: 0.6134 - val_loss: -1.1511 - val_accuracy: 0.6271\n",
            "Epoch 277/500\n",
            "4/4 [==============================] - 0s 8ms/step - loss: -1.3316 - accuracy: 0.6134 - val_loss: -1.1573 - val_accuracy: 0.6271\n",
            "Epoch 278/500\n",
            "4/4 [==============================] - 0s 6ms/step - loss: -1.3375 - accuracy: 0.6134 - val_loss: -1.1639 - val_accuracy: 0.6271\n",
            "Epoch 279/500\n",
            "4/4 [==============================] - 0s 7ms/step - loss: -1.3450 - accuracy: 0.6134 - val_loss: -1.1704 - val_accuracy: 0.6271\n",
            "Epoch 280/500\n",
            "4/4 [==============================] - 0s 7ms/step - loss: -1.3513 - accuracy: 0.6134 - val_loss: -1.1770 - val_accuracy: 0.6271\n",
            "Epoch 281/500\n",
            "4/4 [==============================] - 0s 7ms/step - loss: -1.3584 - accuracy: 0.6134 - val_loss: -1.1836 - val_accuracy: 0.6271\n",
            "Epoch 282/500\n",
            "4/4 [==============================] - 0s 7ms/step - loss: -1.3652 - accuracy: 0.6134 - val_loss: -1.1902 - val_accuracy: 0.6271\n",
            "Epoch 283/500\n",
            "4/4 [==============================] - 0s 6ms/step - loss: -1.3723 - accuracy: 0.6134 - val_loss: -1.1967 - val_accuracy: 0.6271\n",
            "Epoch 284/500\n",
            "4/4 [==============================] - 0s 8ms/step - loss: -1.3791 - accuracy: 0.6134 - val_loss: -1.2033 - val_accuracy: 0.6271\n",
            "Epoch 285/500\n",
            "4/4 [==============================] - 0s 7ms/step - loss: -1.3860 - accuracy: 0.6050 - val_loss: -1.2098 - val_accuracy: 0.6271\n",
            "Epoch 286/500\n",
            "4/4 [==============================] - 0s 6ms/step - loss: -1.3932 - accuracy: 0.6050 - val_loss: -1.2163 - val_accuracy: 0.6271\n",
            "Epoch 287/500\n",
            "4/4 [==============================] - 0s 7ms/step - loss: -1.3996 - accuracy: 0.6050 - val_loss: -1.2231 - val_accuracy: 0.6271\n",
            "Epoch 288/500\n",
            "4/4 [==============================] - 0s 7ms/step - loss: -1.4066 - accuracy: 0.6050 - val_loss: -1.2297 - val_accuracy: 0.6271\n",
            "Epoch 289/500\n",
            "4/4 [==============================] - 0s 8ms/step - loss: -1.4133 - accuracy: 0.6050 - val_loss: -1.2364 - val_accuracy: 0.6271\n",
            "Epoch 290/500\n",
            "4/4 [==============================] - 0s 7ms/step - loss: -1.4207 - accuracy: 0.6050 - val_loss: -1.2428 - val_accuracy: 0.6271\n",
            "Epoch 291/500\n",
            "4/4 [==============================] - 0s 7ms/step - loss: -1.4270 - accuracy: 0.6050 - val_loss: -1.2493 - val_accuracy: 0.6271\n",
            "Epoch 292/500\n",
            "4/4 [==============================] - 0s 7ms/step - loss: -1.4347 - accuracy: 0.6050 - val_loss: -1.2555 - val_accuracy: 0.6271\n",
            "Epoch 293/500\n",
            "4/4 [==============================] - 0s 7ms/step - loss: -1.4410 - accuracy: 0.6050 - val_loss: -1.2621 - val_accuracy: 0.6271\n",
            "Epoch 294/500\n",
            "4/4 [==============================] - 0s 8ms/step - loss: -1.4483 - accuracy: 0.6050 - val_loss: -1.2685 - val_accuracy: 0.6271\n",
            "Epoch 295/500\n",
            "4/4 [==============================] - 0s 7ms/step - loss: -1.4547 - accuracy: 0.6050 - val_loss: -1.2751 - val_accuracy: 0.6271\n",
            "Epoch 296/500\n",
            "4/4 [==============================] - 0s 7ms/step - loss: -1.4614 - accuracy: 0.6050 - val_loss: -1.2818 - val_accuracy: 0.6271\n",
            "Epoch 297/500\n",
            "4/4 [==============================] - 0s 6ms/step - loss: -1.4690 - accuracy: 0.6050 - val_loss: -1.2883 - val_accuracy: 0.6271\n",
            "Epoch 298/500\n",
            "4/4 [==============================] - 0s 6ms/step - loss: -1.4751 - accuracy: 0.6050 - val_loss: -1.2951 - val_accuracy: 0.6271\n",
            "Epoch 299/500\n",
            "4/4 [==============================] - 0s 7ms/step - loss: -1.4819 - accuracy: 0.6050 - val_loss: -1.3019 - val_accuracy: 0.6271\n",
            "Epoch 300/500\n",
            "4/4 [==============================] - 0s 7ms/step - loss: -1.4895 - accuracy: 0.6050 - val_loss: -1.3083 - val_accuracy: 0.6271\n",
            "Epoch 301/500\n",
            "4/4 [==============================] - 0s 6ms/step - loss: -1.4963 - accuracy: 0.6050 - val_loss: -1.3147 - val_accuracy: 0.6271\n",
            "Epoch 302/500\n",
            "4/4 [==============================] - 0s 7ms/step - loss: -1.5033 - accuracy: 0.6050 - val_loss: -1.3210 - val_accuracy: 0.6271\n",
            "Epoch 303/500\n",
            "4/4 [==============================] - 0s 7ms/step - loss: -1.5092 - accuracy: 0.6050 - val_loss: -1.3277 - val_accuracy: 0.6271\n",
            "Epoch 304/500\n",
            "4/4 [==============================] - 0s 7ms/step - loss: -1.5168 - accuracy: 0.6050 - val_loss: -1.3339 - val_accuracy: 0.6271\n",
            "Epoch 305/500\n",
            "4/4 [==============================] - 0s 6ms/step - loss: -1.5228 - accuracy: 0.6050 - val_loss: -1.3405 - val_accuracy: 0.6271\n",
            "Epoch 306/500\n",
            "4/4 [==============================] - 0s 6ms/step - loss: -1.5306 - accuracy: 0.6050 - val_loss: -1.3467 - val_accuracy: 0.6271\n",
            "Epoch 307/500\n",
            "4/4 [==============================] - 0s 6ms/step - loss: -1.5366 - accuracy: 0.6050 - val_loss: -1.3532 - val_accuracy: 0.6271\n",
            "Epoch 308/500\n",
            "4/4 [==============================] - 0s 6ms/step - loss: -1.5442 - accuracy: 0.6050 - val_loss: -1.3595 - val_accuracy: 0.6271\n",
            "Epoch 309/500\n",
            "4/4 [==============================] - 0s 7ms/step - loss: -1.5501 - accuracy: 0.6050 - val_loss: -1.3661 - val_accuracy: 0.6271\n",
            "Epoch 310/500\n",
            "4/4 [==============================] - 0s 6ms/step - loss: -1.5575 - accuracy: 0.6050 - val_loss: -1.3723 - val_accuracy: 0.6271\n",
            "Epoch 311/500\n",
            "4/4 [==============================] - 0s 6ms/step - loss: -1.5642 - accuracy: 0.6050 - val_loss: -1.3786 - val_accuracy: 0.6271\n",
            "Epoch 312/500\n",
            "4/4 [==============================] - 0s 7ms/step - loss: -1.5709 - accuracy: 0.6050 - val_loss: -1.3850 - val_accuracy: 0.6271\n",
            "Epoch 313/500\n",
            "4/4 [==============================] - 0s 6ms/step - loss: -1.5777 - accuracy: 0.6050 - val_loss: -1.3914 - val_accuracy: 0.6271\n",
            "Epoch 314/500\n",
            "4/4 [==============================] - 0s 7ms/step - loss: -1.5843 - accuracy: 0.6050 - val_loss: -1.3980 - val_accuracy: 0.6271\n",
            "Epoch 315/500\n",
            "4/4 [==============================] - 0s 6ms/step - loss: -1.5916 - accuracy: 0.6050 - val_loss: -1.4045 - val_accuracy: 0.6271\n",
            "Epoch 316/500\n",
            "4/4 [==============================] - 0s 7ms/step - loss: -1.5978 - accuracy: 0.6050 - val_loss: -1.4112 - val_accuracy: 0.6271\n",
            "Epoch 317/500\n",
            "4/4 [==============================] - 0s 7ms/step - loss: -1.6054 - accuracy: 0.6050 - val_loss: -1.4176 - val_accuracy: 0.6271\n",
            "Epoch 318/500\n",
            "4/4 [==============================] - 0s 6ms/step - loss: -1.6118 - accuracy: 0.5966 - val_loss: -1.4242 - val_accuracy: 0.6271\n",
            "Epoch 319/500\n",
            "4/4 [==============================] - 0s 6ms/step - loss: -1.6192 - accuracy: 0.5966 - val_loss: -1.4307 - val_accuracy: 0.6271\n",
            "Epoch 320/500\n",
            "4/4 [==============================] - 0s 7ms/step - loss: -1.6261 - accuracy: 0.5966 - val_loss: -1.4373 - val_accuracy: 0.6271\n",
            "Epoch 321/500\n",
            "4/4 [==============================] - 0s 7ms/step - loss: -1.6331 - accuracy: 0.5966 - val_loss: -1.4437 - val_accuracy: 0.6271\n",
            "Epoch 322/500\n",
            "4/4 [==============================] - 0s 8ms/step - loss: -1.6397 - accuracy: 0.5966 - val_loss: -1.4503 - val_accuracy: 0.6271\n",
            "Epoch 323/500\n",
            "4/4 [==============================] - 0s 6ms/step - loss: -1.6462 - accuracy: 0.5966 - val_loss: -1.4570 - val_accuracy: 0.6271\n",
            "Epoch 324/500\n",
            "4/4 [==============================] - 0s 7ms/step - loss: -1.6536 - accuracy: 0.5966 - val_loss: -1.4634 - val_accuracy: 0.6271\n",
            "Epoch 325/500\n",
            "4/4 [==============================] - 0s 5ms/step - loss: -1.6607 - accuracy: 0.5966 - val_loss: -1.4697 - val_accuracy: 0.6271\n",
            "Epoch 326/500\n",
            "4/4 [==============================] - 0s 7ms/step - loss: -1.6673 - accuracy: 0.5966 - val_loss: -1.4762 - val_accuracy: 0.6271\n",
            "Epoch 327/500\n",
            "4/4 [==============================] - 0s 7ms/step - loss: -1.6738 - accuracy: 0.5966 - val_loss: -1.4828 - val_accuracy: 0.6271\n",
            "Epoch 328/500\n",
            "4/4 [==============================] - 0s 8ms/step - loss: -1.6806 - accuracy: 0.5966 - val_loss: -1.4895 - val_accuracy: 0.6271\n",
            "Epoch 329/500\n",
            "4/4 [==============================] - 0s 6ms/step - loss: -1.6881 - accuracy: 0.5966 - val_loss: -1.4960 - val_accuracy: 0.6271\n",
            "Epoch 330/500\n",
            "4/4 [==============================] - 0s 6ms/step - loss: -1.6948 - accuracy: 0.5966 - val_loss: -1.5025 - val_accuracy: 0.6271\n",
            "Epoch 331/500\n",
            "4/4 [==============================] - 0s 6ms/step - loss: -1.7019 - accuracy: 0.5966 - val_loss: -1.5090 - val_accuracy: 0.6271\n",
            "Epoch 332/500\n",
            "4/4 [==============================] - 0s 6ms/step - loss: -1.7088 - accuracy: 0.5966 - val_loss: -1.5155 - val_accuracy: 0.6271\n",
            "Epoch 333/500\n",
            "4/4 [==============================] - 0s 7ms/step - loss: -1.7160 - accuracy: 0.5966 - val_loss: -1.5220 - val_accuracy: 0.6271\n",
            "Epoch 334/500\n",
            "4/4 [==============================] - 0s 7ms/step - loss: -1.7221 - accuracy: 0.5966 - val_loss: -1.5288 - val_accuracy: 0.6271\n",
            "Epoch 335/500\n",
            "4/4 [==============================] - 0s 7ms/step - loss: -1.7296 - accuracy: 0.5966 - val_loss: -1.5355 - val_accuracy: 0.6271\n",
            "Epoch 336/500\n",
            "4/4 [==============================] - 0s 6ms/step - loss: -1.7365 - accuracy: 0.5966 - val_loss: -1.5422 - val_accuracy: 0.6271\n",
            "Epoch 337/500\n",
            "4/4 [==============================] - 0s 6ms/step - loss: -1.7434 - accuracy: 0.5966 - val_loss: -1.5489 - val_accuracy: 0.6271\n",
            "Epoch 338/500\n",
            "4/4 [==============================] - 0s 8ms/step - loss: -1.7502 - accuracy: 0.5966 - val_loss: -1.5555 - val_accuracy: 0.6271\n",
            "Epoch 339/500\n",
            "4/4 [==============================] - 0s 7ms/step - loss: -1.7570 - accuracy: 0.5966 - val_loss: -1.5620 - val_accuracy: 0.6271\n",
            "Epoch 340/500\n",
            "4/4 [==============================] - 0s 7ms/step - loss: -1.7645 - accuracy: 0.5966 - val_loss: -1.5683 - val_accuracy: 0.6271\n",
            "Epoch 341/500\n",
            "4/4 [==============================] - 0s 6ms/step - loss: -1.7716 - accuracy: 0.5966 - val_loss: -1.5746 - val_accuracy: 0.6271\n",
            "Epoch 342/500\n",
            "4/4 [==============================] - 0s 7ms/step - loss: -1.7781 - accuracy: 0.5966 - val_loss: -1.5810 - val_accuracy: 0.6271\n",
            "Epoch 343/500\n",
            "4/4 [==============================] - 0s 7ms/step - loss: -1.7847 - accuracy: 0.5966 - val_loss: -1.5875 - val_accuracy: 0.6271\n",
            "Epoch 344/500\n",
            "4/4 [==============================] - 0s 7ms/step - loss: -1.7914 - accuracy: 0.5966 - val_loss: -1.5940 - val_accuracy: 0.6271\n",
            "Epoch 345/500\n",
            "4/4 [==============================] - 0s 8ms/step - loss: -1.7985 - accuracy: 0.5966 - val_loss: -1.6005 - val_accuracy: 0.6271\n",
            "Epoch 346/500\n",
            "4/4 [==============================] - 0s 6ms/step - loss: -1.8054 - accuracy: 0.5966 - val_loss: -1.6069 - val_accuracy: 0.6271\n",
            "Epoch 347/500\n",
            "4/4 [==============================] - 0s 7ms/step - loss: -1.8119 - accuracy: 0.5966 - val_loss: -1.6136 - val_accuracy: 0.6271\n",
            "Epoch 348/500\n",
            "4/4 [==============================] - 0s 6ms/step - loss: -1.8188 - accuracy: 0.5966 - val_loss: -1.6201 - val_accuracy: 0.6271\n",
            "Epoch 349/500\n",
            "4/4 [==============================] - 0s 9ms/step - loss: -1.8263 - accuracy: 0.5966 - val_loss: -1.6262 - val_accuracy: 0.6271\n",
            "Epoch 350/500\n",
            "4/4 [==============================] - 0s 8ms/step - loss: -1.8329 - accuracy: 0.5966 - val_loss: -1.6326 - val_accuracy: 0.6271\n",
            "Epoch 351/500\n",
            "4/4 [==============================] - 0s 6ms/step - loss: -1.8393 - accuracy: 0.5966 - val_loss: -1.6390 - val_accuracy: 0.6271\n",
            "Epoch 352/500\n",
            "4/4 [==============================] - 0s 7ms/step - loss: -1.8463 - accuracy: 0.5966 - val_loss: -1.6454 - val_accuracy: 0.6271\n",
            "Epoch 353/500\n",
            "4/4 [==============================] - 0s 8ms/step - loss: -1.8532 - accuracy: 0.5966 - val_loss: -1.6518 - val_accuracy: 0.6271\n",
            "Epoch 354/500\n",
            "4/4 [==============================] - 0s 8ms/step - loss: -1.8598 - accuracy: 0.5966 - val_loss: -1.6584 - val_accuracy: 0.6271\n",
            "Epoch 355/500\n",
            "4/4 [==============================] - 0s 7ms/step - loss: -1.8670 - accuracy: 0.5966 - val_loss: -1.6649 - val_accuracy: 0.6271\n",
            "Epoch 356/500\n",
            "4/4 [==============================] - 0s 6ms/step - loss: -1.8735 - accuracy: 0.5966 - val_loss: -1.6715 - val_accuracy: 0.6271\n",
            "Epoch 357/500\n",
            "4/4 [==============================] - 0s 7ms/step - loss: -1.8805 - accuracy: 0.5966 - val_loss: -1.6780 - val_accuracy: 0.6271\n",
            "Epoch 358/500\n",
            "4/4 [==============================] - 0s 10ms/step - loss: -1.8876 - accuracy: 0.5966 - val_loss: -1.6844 - val_accuracy: 0.6271\n",
            "Epoch 359/500\n",
            "4/4 [==============================] - 0s 8ms/step - loss: -1.8948 - accuracy: 0.5966 - val_loss: -1.6908 - val_accuracy: 0.6271\n",
            "Epoch 360/500\n",
            "4/4 [==============================] - 0s 7ms/step - loss: -1.9020 - accuracy: 0.5966 - val_loss: -1.6971 - val_accuracy: 0.6271\n",
            "Epoch 361/500\n",
            "4/4 [==============================] - 0s 6ms/step - loss: -1.9084 - accuracy: 0.5966 - val_loss: -1.7038 - val_accuracy: 0.6271\n",
            "Epoch 362/500\n",
            "4/4 [==============================] - 0s 7ms/step - loss: -1.9153 - accuracy: 0.5966 - val_loss: -1.7105 - val_accuracy: 0.6271\n",
            "Epoch 363/500\n",
            "4/4 [==============================] - 0s 6ms/step - loss: -1.9224 - accuracy: 0.5966 - val_loss: -1.7172 - val_accuracy: 0.6271\n",
            "Epoch 364/500\n",
            "4/4 [==============================] - 0s 7ms/step - loss: -1.9293 - accuracy: 0.5966 - val_loss: -1.7239 - val_accuracy: 0.6271\n",
            "Epoch 365/500\n",
            "4/4 [==============================] - 0s 8ms/step - loss: -1.9367 - accuracy: 0.5966 - val_loss: -1.7304 - val_accuracy: 0.6271\n",
            "Epoch 366/500\n",
            "4/4 [==============================] - 0s 6ms/step - loss: -1.9434 - accuracy: 0.5966 - val_loss: -1.7370 - val_accuracy: 0.6271\n",
            "Epoch 367/500\n",
            "4/4 [==============================] - 0s 7ms/step - loss: -1.9507 - accuracy: 0.5966 - val_loss: -1.7434 - val_accuracy: 0.6271\n",
            "Epoch 368/500\n",
            "4/4 [==============================] - 0s 6ms/step - loss: -1.9572 - accuracy: 0.5966 - val_loss: -1.7500 - val_accuracy: 0.6271\n",
            "Epoch 369/500\n",
            "4/4 [==============================] - 0s 7ms/step - loss: -1.9645 - accuracy: 0.5966 - val_loss: -1.7566 - val_accuracy: 0.6271\n",
            "Epoch 370/500\n",
            "4/4 [==============================] - 0s 6ms/step - loss: -1.9715 - accuracy: 0.5966 - val_loss: -1.7631 - val_accuracy: 0.6271\n",
            "Epoch 371/500\n",
            "4/4 [==============================] - 0s 8ms/step - loss: -1.9789 - accuracy: 0.5966 - val_loss: -1.7696 - val_accuracy: 0.6271\n",
            "Epoch 372/500\n",
            "4/4 [==============================] - 0s 8ms/step - loss: -1.9850 - accuracy: 0.5966 - val_loss: -1.7765 - val_accuracy: 0.6271\n",
            "Epoch 373/500\n",
            "4/4 [==============================] - 0s 7ms/step - loss: -1.9924 - accuracy: 0.5966 - val_loss: -1.7831 - val_accuracy: 0.6271\n",
            "Epoch 374/500\n",
            "4/4 [==============================] - 0s 6ms/step - loss: -1.9993 - accuracy: 0.5966 - val_loss: -1.7897 - val_accuracy: 0.6271\n",
            "Epoch 375/500\n",
            "4/4 [==============================] - 0s 7ms/step - loss: -2.0061 - accuracy: 0.5966 - val_loss: -1.7963 - val_accuracy: 0.6102\n",
            "Epoch 376/500\n",
            "4/4 [==============================] - 0s 7ms/step - loss: -2.0136 - accuracy: 0.5966 - val_loss: -1.8027 - val_accuracy: 0.6102\n",
            "Epoch 377/500\n",
            "4/4 [==============================] - 0s 8ms/step - loss: -2.0198 - accuracy: 0.5966 - val_loss: -1.8093 - val_accuracy: 0.6102\n",
            "Epoch 378/500\n",
            "4/4 [==============================] - 0s 7ms/step - loss: -2.0269 - accuracy: 0.5966 - val_loss: -1.8157 - val_accuracy: 0.6102\n",
            "Epoch 379/500\n",
            "4/4 [==============================] - 0s 8ms/step - loss: -2.0341 - accuracy: 0.5966 - val_loss: -1.8220 - val_accuracy: 0.6102\n",
            "Epoch 380/500\n",
            "4/4 [==============================] - 0s 7ms/step - loss: -2.0407 - accuracy: 0.5966 - val_loss: -1.8284 - val_accuracy: 0.6102\n",
            "Epoch 381/500\n",
            "4/4 [==============================] - 0s 6ms/step - loss: -2.0475 - accuracy: 0.5966 - val_loss: -1.8349 - val_accuracy: 0.6102\n",
            "Epoch 382/500\n",
            "4/4 [==============================] - 0s 7ms/step - loss: -2.0542 - accuracy: 0.5966 - val_loss: -1.8413 - val_accuracy: 0.6102\n",
            "Epoch 383/500\n",
            "4/4 [==============================] - 0s 6ms/step - loss: -2.0618 - accuracy: 0.5966 - val_loss: -1.8475 - val_accuracy: 0.6102\n",
            "Epoch 384/500\n",
            "4/4 [==============================] - 0s 7ms/step - loss: -2.0680 - accuracy: 0.5966 - val_loss: -1.8540 - val_accuracy: 0.6102\n",
            "Epoch 385/500\n",
            "4/4 [==============================] - 0s 6ms/step - loss: -2.0745 - accuracy: 0.5966 - val_loss: -1.8607 - val_accuracy: 0.6102\n",
            "Epoch 386/500\n",
            "4/4 [==============================] - 0s 7ms/step - loss: -2.0823 - accuracy: 0.5966 - val_loss: -1.8671 - val_accuracy: 0.6102\n",
            "Epoch 387/500\n",
            "4/4 [==============================] - 0s 5ms/step - loss: -2.0888 - accuracy: 0.5966 - val_loss: -1.8737 - val_accuracy: 0.6102\n",
            "Epoch 388/500\n",
            "4/4 [==============================] - 0s 7ms/step - loss: -2.0962 - accuracy: 0.5966 - val_loss: -1.8802 - val_accuracy: 0.6102\n",
            "Epoch 389/500\n",
            "4/4 [==============================] - 0s 5ms/step - loss: -2.1034 - accuracy: 0.5966 - val_loss: -1.8867 - val_accuracy: 0.6102\n",
            "Epoch 390/500\n",
            "4/4 [==============================] - 0s 6ms/step - loss: -2.1102 - accuracy: 0.5966 - val_loss: -1.8935 - val_accuracy: 0.6102\n",
            "Epoch 391/500\n",
            "4/4 [==============================] - 0s 6ms/step - loss: -2.1170 - accuracy: 0.5966 - val_loss: -1.9002 - val_accuracy: 0.6102\n",
            "Epoch 392/500\n",
            "4/4 [==============================] - 0s 7ms/step - loss: -2.1243 - accuracy: 0.5966 - val_loss: -1.9069 - val_accuracy: 0.6102\n",
            "Epoch 393/500\n",
            "4/4 [==============================] - 0s 6ms/step - loss: -2.1308 - accuracy: 0.5966 - val_loss: -1.9137 - val_accuracy: 0.6102\n",
            "Epoch 394/500\n",
            "4/4 [==============================] - 0s 6ms/step - loss: -2.1379 - accuracy: 0.5966 - val_loss: -1.9204 - val_accuracy: 0.6102\n",
            "Epoch 395/500\n",
            "4/4 [==============================] - 0s 7ms/step - loss: -2.1458 - accuracy: 0.5966 - val_loss: -1.9267 - val_accuracy: 0.6102\n",
            "Epoch 396/500\n",
            "4/4 [==============================] - 0s 7ms/step - loss: -2.1530 - accuracy: 0.5966 - val_loss: -1.9332 - val_accuracy: 0.6102\n",
            "Epoch 397/500\n",
            "4/4 [==============================] - 0s 7ms/step - loss: -2.1592 - accuracy: 0.5966 - val_loss: -1.9399 - val_accuracy: 0.6102\n",
            "Epoch 398/500\n",
            "4/4 [==============================] - 0s 6ms/step - loss: -2.1665 - accuracy: 0.5966 - val_loss: -1.9466 - val_accuracy: 0.6102\n",
            "Epoch 399/500\n",
            "4/4 [==============================] - 0s 9ms/step - loss: -2.1740 - accuracy: 0.5966 - val_loss: -1.9531 - val_accuracy: 0.6102\n",
            "Epoch 400/500\n",
            "4/4 [==============================] - 0s 9ms/step - loss: -2.1809 - accuracy: 0.5966 - val_loss: -1.9598 - val_accuracy: 0.6102\n",
            "Epoch 401/500\n",
            "4/4 [==============================] - 0s 7ms/step - loss: -2.1874 - accuracy: 0.5966 - val_loss: -1.9667 - val_accuracy: 0.6102\n",
            "Epoch 402/500\n",
            "4/4 [==============================] - 0s 7ms/step - loss: -2.1950 - accuracy: 0.5966 - val_loss: -1.9733 - val_accuracy: 0.6102\n",
            "Epoch 403/500\n",
            "4/4 [==============================] - 0s 6ms/step - loss: -2.2016 - accuracy: 0.5966 - val_loss: -1.9800 - val_accuracy: 0.6102\n",
            "Epoch 404/500\n",
            "4/4 [==============================] - 0s 6ms/step - loss: -2.2094 - accuracy: 0.5966 - val_loss: -1.9864 - val_accuracy: 0.6102\n",
            "Epoch 405/500\n",
            "4/4 [==============================] - 0s 6ms/step - loss: -2.2159 - accuracy: 0.5966 - val_loss: -1.9930 - val_accuracy: 0.6102\n",
            "Epoch 406/500\n",
            "4/4 [==============================] - 0s 6ms/step - loss: -2.2228 - accuracy: 0.5966 - val_loss: -1.9997 - val_accuracy: 0.6102\n",
            "Epoch 407/500\n",
            "4/4 [==============================] - 0s 8ms/step - loss: -2.2301 - accuracy: 0.5966 - val_loss: -2.0063 - val_accuracy: 0.6102\n",
            "Epoch 408/500\n",
            "4/4 [==============================] - 0s 7ms/step - loss: -2.2374 - accuracy: 0.5966 - val_loss: -2.0129 - val_accuracy: 0.6102\n",
            "Epoch 409/500\n",
            "4/4 [==============================] - 0s 7ms/step - loss: -2.2440 - accuracy: 0.5966 - val_loss: -2.0197 - val_accuracy: 0.6102\n",
            "Epoch 410/500\n",
            "4/4 [==============================] - 0s 9ms/step - loss: -2.2515 - accuracy: 0.5966 - val_loss: -2.0264 - val_accuracy: 0.6102\n",
            "Epoch 411/500\n",
            "4/4 [==============================] - 0s 7ms/step - loss: -2.2581 - accuracy: 0.5966 - val_loss: -2.0333 - val_accuracy: 0.6102\n",
            "Epoch 412/500\n",
            "4/4 [==============================] - 0s 8ms/step - loss: -2.2656 - accuracy: 0.5966 - val_loss: -2.0399 - val_accuracy: 0.6102\n",
            "Epoch 413/500\n",
            "4/4 [==============================] - 0s 6ms/step - loss: -2.2729 - accuracy: 0.5966 - val_loss: -2.0465 - val_accuracy: 0.6102\n",
            "Epoch 414/500\n",
            "4/4 [==============================] - 0s 7ms/step - loss: -2.2794 - accuracy: 0.5966 - val_loss: -2.0532 - val_accuracy: 0.6102\n",
            "Epoch 415/500\n",
            "4/4 [==============================] - 0s 8ms/step - loss: -2.2869 - accuracy: 0.5966 - val_loss: -2.0597 - val_accuracy: 0.6102\n",
            "Epoch 416/500\n",
            "4/4 [==============================] - 0s 6ms/step - loss: -2.2938 - accuracy: 0.5966 - val_loss: -2.0662 - val_accuracy: 0.6102\n",
            "Epoch 417/500\n",
            "4/4 [==============================] - 0s 8ms/step - loss: -2.3005 - accuracy: 0.5966 - val_loss: -2.0729 - val_accuracy: 0.6102\n",
            "Epoch 418/500\n",
            "4/4 [==============================] - 0s 7ms/step - loss: -2.3080 - accuracy: 0.5966 - val_loss: -2.0796 - val_accuracy: 0.6102\n",
            "Epoch 419/500\n",
            "4/4 [==============================] - 0s 8ms/step - loss: -2.3146 - accuracy: 0.5966 - val_loss: -2.0863 - val_accuracy: 0.6102\n",
            "Epoch 420/500\n",
            "4/4 [==============================] - 0s 8ms/step - loss: -2.3228 - accuracy: 0.5966 - val_loss: -2.0926 - val_accuracy: 0.6102\n",
            "Epoch 421/500\n",
            "4/4 [==============================] - 0s 6ms/step - loss: -2.3291 - accuracy: 0.5966 - val_loss: -2.0994 - val_accuracy: 0.6102\n",
            "Epoch 422/500\n",
            "4/4 [==============================] - 0s 7ms/step - loss: -2.3360 - accuracy: 0.5966 - val_loss: -2.1062 - val_accuracy: 0.6102\n",
            "Epoch 423/500\n",
            "4/4 [==============================] - 0s 6ms/step - loss: -2.3436 - accuracy: 0.5966 - val_loss: -2.1127 - val_accuracy: 0.6102\n",
            "Epoch 424/500\n",
            "4/4 [==============================] - 0s 7ms/step - loss: -2.3507 - accuracy: 0.5966 - val_loss: -2.1192 - val_accuracy: 0.6102\n",
            "Epoch 425/500\n",
            "4/4 [==============================] - 0s 7ms/step - loss: -2.3573 - accuracy: 0.5966 - val_loss: -2.1259 - val_accuracy: 0.6102\n",
            "Epoch 426/500\n",
            "4/4 [==============================] - 0s 6ms/step - loss: -2.3641 - accuracy: 0.5966 - val_loss: -2.1326 - val_accuracy: 0.6102\n",
            "Epoch 427/500\n",
            "4/4 [==============================] - 0s 7ms/step - loss: -2.3718 - accuracy: 0.5966 - val_loss: -2.1391 - val_accuracy: 0.6102\n",
            "Epoch 428/500\n",
            "4/4 [==============================] - 0s 7ms/step - loss: -2.3789 - accuracy: 0.5966 - val_loss: -2.1457 - val_accuracy: 0.6102\n",
            "Epoch 429/500\n",
            "4/4 [==============================] - 0s 8ms/step - loss: -2.3856 - accuracy: 0.5966 - val_loss: -2.1524 - val_accuracy: 0.6102\n",
            "Epoch 430/500\n",
            "4/4 [==============================] - 0s 9ms/step - loss: -2.3926 - accuracy: 0.5966 - val_loss: -2.1591 - val_accuracy: 0.6102\n",
            "Epoch 431/500\n",
            "4/4 [==============================] - 0s 7ms/step - loss: -2.3996 - accuracy: 0.5966 - val_loss: -2.1659 - val_accuracy: 0.6102\n",
            "Epoch 432/500\n",
            "4/4 [==============================] - 0s 6ms/step - loss: -2.4070 - accuracy: 0.5966 - val_loss: -2.1726 - val_accuracy: 0.6102\n",
            "Epoch 433/500\n",
            "4/4 [==============================] - 0s 7ms/step - loss: -2.4140 - accuracy: 0.5966 - val_loss: -2.1792 - val_accuracy: 0.6102\n",
            "Epoch 434/500\n",
            "4/4 [==============================] - 0s 6ms/step - loss: -2.4214 - accuracy: 0.5966 - val_loss: -2.1855 - val_accuracy: 0.6102\n",
            "Epoch 435/500\n",
            "4/4 [==============================] - 0s 6ms/step - loss: -2.4280 - accuracy: 0.5966 - val_loss: -2.1921 - val_accuracy: 0.6102\n",
            "Epoch 436/500\n",
            "4/4 [==============================] - 0s 7ms/step - loss: -2.4355 - accuracy: 0.5966 - val_loss: -2.1985 - val_accuracy: 0.6102\n",
            "Epoch 437/500\n",
            "4/4 [==============================] - 0s 6ms/step - loss: -2.4419 - accuracy: 0.5966 - val_loss: -2.2052 - val_accuracy: 0.6102\n",
            "Epoch 438/500\n",
            "4/4 [==============================] - 0s 7ms/step - loss: -2.4492 - accuracy: 0.5966 - val_loss: -2.2117 - val_accuracy: 0.6102\n",
            "Epoch 439/500\n",
            "4/4 [==============================] - 0s 10ms/step - loss: -2.4563 - accuracy: 0.5966 - val_loss: -2.2183 - val_accuracy: 0.6102\n",
            "Epoch 440/500\n",
            "4/4 [==============================] - 0s 7ms/step - loss: -2.4637 - accuracy: 0.5966 - val_loss: -2.2249 - val_accuracy: 0.6102\n",
            "Epoch 441/500\n",
            "4/4 [==============================] - 0s 7ms/step - loss: -2.4701 - accuracy: 0.5966 - val_loss: -2.2318 - val_accuracy: 0.6102\n",
            "Epoch 442/500\n",
            "4/4 [==============================] - 0s 6ms/step - loss: -2.4776 - accuracy: 0.5966 - val_loss: -2.2387 - val_accuracy: 0.6102\n",
            "Epoch 443/500\n",
            "4/4 [==============================] - 0s 8ms/step - loss: -2.4849 - accuracy: 0.5966 - val_loss: -2.2453 - val_accuracy: 0.6102\n",
            "Epoch 444/500\n",
            "4/4 [==============================] - 0s 8ms/step - loss: -2.4924 - accuracy: 0.5966 - val_loss: -2.2519 - val_accuracy: 0.6102\n",
            "Epoch 445/500\n",
            "4/4 [==============================] - 0s 7ms/step - loss: -2.4989 - accuracy: 0.5966 - val_loss: -2.2587 - val_accuracy: 0.6102\n",
            "Epoch 446/500\n",
            "4/4 [==============================] - 0s 7ms/step - loss: -2.5067 - accuracy: 0.5966 - val_loss: -2.2652 - val_accuracy: 0.6102\n",
            "Epoch 447/500\n",
            "4/4 [==============================] - 0s 7ms/step - loss: -2.5133 - accuracy: 0.5966 - val_loss: -2.2720 - val_accuracy: 0.6102\n",
            "Epoch 448/500\n",
            "4/4 [==============================] - 0s 7ms/step - loss: -2.5204 - accuracy: 0.5966 - val_loss: -2.2788 - val_accuracy: 0.6102\n",
            "Epoch 449/500\n",
            "4/4 [==============================] - 0s 7ms/step - loss: -2.5278 - accuracy: 0.5966 - val_loss: -2.2854 - val_accuracy: 0.6102\n",
            "Epoch 450/500\n",
            "4/4 [==============================] - 0s 7ms/step - loss: -2.5349 - accuracy: 0.5966 - val_loss: -2.2920 - val_accuracy: 0.6102\n",
            "Epoch 451/500\n",
            "4/4 [==============================] - 0s 9ms/step - loss: -2.5423 - accuracy: 0.5966 - val_loss: -2.2987 - val_accuracy: 0.6102\n",
            "Epoch 452/500\n",
            "4/4 [==============================] - 0s 6ms/step - loss: -2.5488 - accuracy: 0.5966 - val_loss: -2.3057 - val_accuracy: 0.6102\n",
            "Epoch 453/500\n",
            "4/4 [==============================] - 0s 7ms/step - loss: -2.5568 - accuracy: 0.5966 - val_loss: -2.3125 - val_accuracy: 0.6102\n",
            "Epoch 454/500\n",
            "4/4 [==============================] - 0s 7ms/step - loss: -2.5637 - accuracy: 0.5966 - val_loss: -2.3194 - val_accuracy: 0.6102\n",
            "Epoch 455/500\n",
            "4/4 [==============================] - 0s 8ms/step - loss: -2.5707 - accuracy: 0.5966 - val_loss: -2.3263 - val_accuracy: 0.6102\n",
            "Epoch 456/500\n",
            "4/4 [==============================] - 0s 6ms/step - loss: -2.5782 - accuracy: 0.5966 - val_loss: -2.3330 - val_accuracy: 0.6102\n",
            "Epoch 457/500\n",
            "4/4 [==============================] - 0s 7ms/step - loss: -2.5854 - accuracy: 0.5966 - val_loss: -2.3398 - val_accuracy: 0.6102\n",
            "Epoch 458/500\n",
            "4/4 [==============================] - 0s 7ms/step - loss: -2.5924 - accuracy: 0.5966 - val_loss: -2.3466 - val_accuracy: 0.6102\n",
            "Epoch 459/500\n",
            "4/4 [==============================] - 0s 7ms/step - loss: -2.5999 - accuracy: 0.5966 - val_loss: -2.3533 - val_accuracy: 0.6102\n",
            "Epoch 460/500\n",
            "4/4 [==============================] - 0s 9ms/step - loss: -2.6077 - accuracy: 0.5966 - val_loss: -2.3598 - val_accuracy: 0.6102\n",
            "Epoch 461/500\n",
            "4/4 [==============================] - 0s 9ms/step - loss: -2.6142 - accuracy: 0.5966 - val_loss: -2.3668 - val_accuracy: 0.6102\n",
            "Epoch 462/500\n",
            "4/4 [==============================] - 0s 8ms/step - loss: -2.6218 - accuracy: 0.5966 - val_loss: -2.3736 - val_accuracy: 0.6102\n",
            "Epoch 463/500\n",
            "4/4 [==============================] - 0s 7ms/step - loss: -2.6288 - accuracy: 0.5966 - val_loss: -2.3805 - val_accuracy: 0.6102\n",
            "Epoch 464/500\n",
            "4/4 [==============================] - 0s 7ms/step - loss: -2.6358 - accuracy: 0.5966 - val_loss: -2.3875 - val_accuracy: 0.6102\n",
            "Epoch 465/500\n",
            "4/4 [==============================] - 0s 7ms/step - loss: -2.6434 - accuracy: 0.5966 - val_loss: -2.3943 - val_accuracy: 0.6102\n",
            "Epoch 466/500\n",
            "4/4 [==============================] - 0s 8ms/step - loss: -2.6509 - accuracy: 0.5966 - val_loss: -2.4010 - val_accuracy: 0.6102\n",
            "Epoch 467/500\n",
            "4/4 [==============================] - 0s 8ms/step - loss: -2.6579 - accuracy: 0.5966 - val_loss: -2.4078 - val_accuracy: 0.6102\n",
            "Epoch 468/500\n",
            "4/4 [==============================] - 0s 7ms/step - loss: -2.6655 - accuracy: 0.5966 - val_loss: -2.4145 - val_accuracy: 0.6102\n",
            "Epoch 469/500\n",
            "4/4 [==============================] - 0s 9ms/step - loss: -2.6724 - accuracy: 0.5966 - val_loss: -2.4213 - val_accuracy: 0.6102\n",
            "Epoch 470/500\n",
            "4/4 [==============================] - 0s 8ms/step - loss: -2.6796 - accuracy: 0.5966 - val_loss: -2.4280 - val_accuracy: 0.6102\n",
            "Epoch 471/500\n",
            "4/4 [==============================] - 0s 7ms/step - loss: -2.6862 - accuracy: 0.5966 - val_loss: -2.4350 - val_accuracy: 0.6102\n",
            "Epoch 472/500\n",
            "4/4 [==============================] - 0s 8ms/step - loss: -2.6943 - accuracy: 0.5966 - val_loss: -2.4415 - val_accuracy: 0.6102\n",
            "Epoch 473/500\n",
            "4/4 [==============================] - 0s 9ms/step - loss: -2.7013 - accuracy: 0.5966 - val_loss: -2.4482 - val_accuracy: 0.6102\n",
            "Epoch 474/500\n",
            "4/4 [==============================] - 0s 9ms/step - loss: -2.7079 - accuracy: 0.5966 - val_loss: -2.4551 - val_accuracy: 0.6102\n",
            "Epoch 475/500\n",
            "4/4 [==============================] - 0s 8ms/step - loss: -2.7160 - accuracy: 0.5966 - val_loss: -2.4616 - val_accuracy: 0.6102\n",
            "Epoch 476/500\n",
            "4/4 [==============================] - 0s 7ms/step - loss: -2.7229 - accuracy: 0.5966 - val_loss: -2.4683 - val_accuracy: 0.6102\n",
            "Epoch 477/500\n",
            "4/4 [==============================] - 0s 7ms/step - loss: -2.7298 - accuracy: 0.5966 - val_loss: -2.4752 - val_accuracy: 0.6102\n",
            "Epoch 478/500\n",
            "4/4 [==============================] - 0s 7ms/step - loss: -2.7371 - accuracy: 0.5966 - val_loss: -2.4820 - val_accuracy: 0.6102\n",
            "Epoch 479/500\n",
            "4/4 [==============================] - 0s 7ms/step - loss: -2.7443 - accuracy: 0.5966 - val_loss: -2.4888 - val_accuracy: 0.6102\n",
            "Epoch 480/500\n",
            "4/4 [==============================] - 0s 6ms/step - loss: -2.7521 - accuracy: 0.5966 - val_loss: -2.4955 - val_accuracy: 0.6102\n",
            "Epoch 481/500\n",
            "4/4 [==============================] - 0s 7ms/step - loss: -2.7588 - accuracy: 0.5966 - val_loss: -2.5024 - val_accuracy: 0.6102\n",
            "Epoch 482/500\n",
            "4/4 [==============================] - 0s 7ms/step - loss: -2.7659 - accuracy: 0.5966 - val_loss: -2.5094 - val_accuracy: 0.6102\n",
            "Epoch 483/500\n",
            "4/4 [==============================] - 0s 7ms/step - loss: -2.7735 - accuracy: 0.5966 - val_loss: -2.5162 - val_accuracy: 0.6102\n",
            "Epoch 484/500\n",
            "4/4 [==============================] - 0s 8ms/step - loss: -2.7808 - accuracy: 0.5966 - val_loss: -2.5230 - val_accuracy: 0.6102\n",
            "Epoch 485/500\n",
            "4/4 [==============================] - 0s 7ms/step - loss: -2.7883 - accuracy: 0.5966 - val_loss: -2.5297 - val_accuracy: 0.6102\n",
            "Epoch 486/500\n",
            "4/4 [==============================] - 0s 7ms/step - loss: -2.7954 - accuracy: 0.5966 - val_loss: -2.5366 - val_accuracy: 0.6102\n",
            "Epoch 487/500\n",
            "4/4 [==============================] - 0s 8ms/step - loss: -2.8024 - accuracy: 0.5966 - val_loss: -2.5436 - val_accuracy: 0.6102\n",
            "Epoch 488/500\n",
            "4/4 [==============================] - 0s 6ms/step - loss: -2.8097 - accuracy: 0.5966 - val_loss: -2.5505 - val_accuracy: 0.6102\n",
            "Epoch 489/500\n",
            "4/4 [==============================] - 0s 8ms/step - loss: -2.8171 - accuracy: 0.5966 - val_loss: -2.5573 - val_accuracy: 0.6102\n",
            "Epoch 490/500\n",
            "4/4 [==============================] - 0s 7ms/step - loss: -2.8245 - accuracy: 0.5966 - val_loss: -2.5640 - val_accuracy: 0.6102\n",
            "Epoch 491/500\n",
            "4/4 [==============================] - 0s 8ms/step - loss: -2.8314 - accuracy: 0.5966 - val_loss: -2.5709 - val_accuracy: 0.6102\n",
            "Epoch 492/500\n",
            "4/4 [==============================] - 0s 7ms/step - loss: -2.8387 - accuracy: 0.5966 - val_loss: -2.5776 - val_accuracy: 0.6102\n",
            "Epoch 493/500\n",
            "4/4 [==============================] - 0s 9ms/step - loss: -2.8467 - accuracy: 0.5966 - val_loss: -2.5840 - val_accuracy: 0.6102\n",
            "Epoch 494/500\n",
            "4/4 [==============================] - 0s 7ms/step - loss: -2.8533 - accuracy: 0.5966 - val_loss: -2.5907 - val_accuracy: 0.6102\n",
            "Epoch 495/500\n",
            "4/4 [==============================] - 0s 6ms/step - loss: -2.8595 - accuracy: 0.5966 - val_loss: -2.5978 - val_accuracy: 0.6102\n",
            "Epoch 496/500\n",
            "4/4 [==============================] - 0s 6ms/step - loss: -2.8679 - accuracy: 0.5966 - val_loss: -2.6043 - val_accuracy: 0.6102\n",
            "Epoch 497/500\n",
            "4/4 [==============================] - 0s 7ms/step - loss: -2.8746 - accuracy: 0.5966 - val_loss: -2.6110 - val_accuracy: 0.6102\n",
            "Epoch 498/500\n",
            "4/4 [==============================] - 0s 7ms/step - loss: -2.8822 - accuracy: 0.5966 - val_loss: -2.6177 - val_accuracy: 0.6102\n",
            "Epoch 499/500\n",
            "4/4 [==============================] - 0s 6ms/step - loss: -2.8892 - accuracy: 0.5966 - val_loss: -2.6243 - val_accuracy: 0.6102\n",
            "Epoch 500/500\n",
            "4/4 [==============================] - 0s 7ms/step - loss: -2.8960 - accuracy: 0.5966 - val_loss: -2.6312 - val_accuracy: 0.6102\n",
            "4/4 [==============================] - 0s 1ms/step - loss: -2.9009 - accuracy: 0.5966\n",
            "Train Score:  [-2.9008638858795166, 0.5966386795043945]\n",
            "2/2 [==============================] - 0s 2ms/step - loss: -2.6312 - accuracy: 0.6102\n",
            "Test Score:  [-2.6312296390533447, 0.6101694703102112]\n"
          ],
          "name": "stdout"
        }
      ]
    },
    {
      "cell_type": "code",
      "metadata": {
        "id": "qSHAdSiBwi8S"
      },
      "source": [
        ""
      ],
      "execution_count": null,
      "outputs": []
    },
    {
      "cell_type": "markdown",
      "metadata": {
        "id": "LUx5WFwUwCrD"
      },
      "source": [
        "## Check how good the model is doing"
      ]
    },
    {
      "cell_type": "code",
      "metadata": {
        "id": "RxjhHg5OwQ8q",
        "outputId": "4050bfd1-b701-4a03-b1b8-99a3c57c4562",
        "colab": {
          "base_uri": "https://localhost:8080/",
          "height": 282
        }
      },
      "source": [
        "import matplotlib.pyplot as plt\n",
        "\n",
        "plt.plot(r.history['loss'], label='loss')\n",
        "plt.plot(r.history['val_loss'], label='val_loss')\n",
        "plt.legend()"
      ],
      "execution_count": 30,
      "outputs": [
        {
          "output_type": "execute_result",
          "data": {
            "text/plain": [
              "<matplotlib.legend.Legend at 0x7fe932909978>"
            ]
          },
          "metadata": {
            "tags": []
          },
          "execution_count": 30
        },
        {
          "output_type": "display_data",
          "data": {
            "image/png": "[encoded data removed]",
            "text/plain": [
              "<Figure size 432x288 with 1 Axes>"
            ]
          },
          "metadata": {
            "tags": [],
            "needs_background": "light"
          }
        }
      ]
    },
    {
      "cell_type": "code",
      "metadata": {
        "id": "fyQAXr7zwuaa",
        "outputId": "04754bbd-e37f-4a83-bcef-41c9fc92a653",
        "colab": {
          "base_uri": "https://localhost:8080/",
          "height": 283
        }
      },
      "source": [
        "plt.plot(r.history['accuracy'], label='accuracy')\n",
        "plt.plot(r.history['val_accuracy'], label='val_accuracy')\n",
        "plt.legend()"
      ],
      "execution_count": 31,
      "outputs": [
        {
          "output_type": "execute_result",
          "data": {
            "text/plain": [
              "<matplotlib.legend.Legend at 0x7fe935845898>"
            ]
          },
          "metadata": {
            "tags": []
          },
          "execution_count": 31
        },
        {
          "output_type": "display_data",
          "data": {
            "image/png": "[encoded data removed]",
            "text/plain": [
              "<Figure size 432x288 with 1 Axes>"
            ]
          },
          "metadata": {
            "tags": [],
            "needs_background": "light"
          }
        }
      ]
    },
    {
      "cell_type": "code",
      "metadata": {
        "id": "ojpN5GYjw-AS"
      },
      "source": [
        ""
      ],
      "execution_count": null,
      "outputs": []
    },
    {
      "cell_type": "code",
      "metadata": {
        "id": "eH3ReHzdwfty"
      },
      "source": [
        ""
      ],
      "execution_count": null,
      "outputs": []
    },
    {
      "cell_type": "code",
      "metadata": {
        "id": "9kHwAbmiwbIq"
      },
      "source": [
        ""
      ],
      "execution_count": null,
      "outputs": []
    },
    {
      "cell_type": "code",
      "metadata": {
        "id": "EL8_O1esvu3D"
      },
      "source": [
        ""
      ],
      "execution_count": null,
      "outputs": []
    },
    {
      "cell_type": "code",
      "metadata": {
        "id": "Tp5QFC14vhSa"
      },
      "source": [
        ""
      ],
      "execution_count": null,
      "outputs": []
    },
    {
      "cell_type": "code",
      "metadata": {
        "id": "E45-9DQhvRf7"
      },
      "source": [
        ""
      ],
      "execution_count": null,
      "outputs": []
    },
    {
      "cell_type": "code",
      "metadata": {
        "id": "UGHm065uvDez"
      },
      "source": [
        ""
      ],
      "execution_count": null,
      "outputs": []
    },
    {
      "cell_type": "code",
      "metadata": {
        "id": "7un4nSGTu_M7"
      },
      "source": [
        ""
      ],
      "execution_count": null,
      "outputs": []
    },
    {
      "cell_type": "code",
      "metadata": {
        "id": "elx6yWpEu7q2"
      },
      "source": [
        ""
      ],
      "execution_count": null,
      "outputs": []
    },
    {
      "cell_type": "code",
      "metadata": {
        "id": "dLfg5TkruOnq"
      },
      "source": [
        ""
      ],
      "execution_count": null,
      "outputs": []
    },
    {
      "cell_type": "code",
      "metadata": {
        "id": "W9DjeVp9uIgU"
      },
      "source": [
        ""
      ],
      "execution_count": null,
      "outputs": []
    }
  ]
}